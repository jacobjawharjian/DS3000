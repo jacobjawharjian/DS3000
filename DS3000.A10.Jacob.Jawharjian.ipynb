{
 "cells": [
  {
   "cell_type": "markdown",
   "id": "62694648",
   "metadata": {},
   "source": [
    "( 10 pts) Include any previous data preparation steps, EDA and visualizations. Its ok to copy and paste your code. However, ensure that you update the code based on the previous feedback from the TAs."
   ]
  },
  {
   "cell_type": "code",
   "execution_count": 1,
   "id": "f1a24a32",
   "metadata": {},
   "outputs": [
    {
     "name": "stdout",
     "output_type": "stream",
     "text": [
      "Requirement already satisfied: fastparquet in /Users/jacobjawharjian/opt/anaconda3/lib/python3.9/site-packages (2023.1.0)\n",
      "Requirement already satisfied: packaging in /Users/jacobjawharjian/opt/anaconda3/lib/python3.9/site-packages (from fastparquet) (21.3)\n",
      "Requirement already satisfied: numpy>=1.20.3 in /Users/jacobjawharjian/opt/anaconda3/lib/python3.9/site-packages (from fastparquet) (1.21.5)\n",
      "Requirement already satisfied: cramjam>=2.3 in /Users/jacobjawharjian/opt/anaconda3/lib/python3.9/site-packages (from fastparquet) (2.6.2)\n",
      "Requirement already satisfied: pandas>=1.5.0 in /Users/jacobjawharjian/opt/anaconda3/lib/python3.9/site-packages (from fastparquet) (1.5.3)\n",
      "Requirement already satisfied: fsspec in /Users/jacobjawharjian/opt/anaconda3/lib/python3.9/site-packages (from fastparquet) (2022.7.1)\n",
      "Requirement already satisfied: python-dateutil>=2.8.1 in /Users/jacobjawharjian/opt/anaconda3/lib/python3.9/site-packages (from pandas>=1.5.0->fastparquet) (2.8.2)\n",
      "Requirement already satisfied: pytz>=2020.1 in /Users/jacobjawharjian/opt/anaconda3/lib/python3.9/site-packages (from pandas>=1.5.0->fastparquet) (2022.1)\n",
      "Requirement already satisfied: pyparsing!=3.0.5,>=2.0.2 in /Users/jacobjawharjian/opt/anaconda3/lib/python3.9/site-packages (from packaging->fastparquet) (3.0.9)\n",
      "Requirement already satisfied: six>=1.5 in /Users/jacobjawharjian/opt/anaconda3/lib/python3.9/site-packages (from python-dateutil>=2.8.1->pandas>=1.5.0->fastparquet) (1.16.0)\n"
     ]
    },
    {
     "data": {
      "text/html": [
       "<div>\n",
       "<style scoped>\n",
       "    .dataframe tbody tr th:only-of-type {\n",
       "        vertical-align: middle;\n",
       "    }\n",
       "\n",
       "    .dataframe tbody tr th {\n",
       "        vertical-align: top;\n",
       "    }\n",
       "\n",
       "    .dataframe thead th {\n",
       "        text-align: right;\n",
       "    }\n",
       "</style>\n",
       "<table border=\"1\" class=\"dataframe\">\n",
       "  <thead>\n",
       "    <tr style=\"text-align: right;\">\n",
       "      <th></th>\n",
       "      <th>VendorID</th>\n",
       "      <th>lpep_pickup_datetime</th>\n",
       "      <th>lpep_dropoff_datetime</th>\n",
       "      <th>store_and_fwd_flag</th>\n",
       "      <th>RatecodeID</th>\n",
       "      <th>PULocationID</th>\n",
       "      <th>DOLocationID</th>\n",
       "      <th>passenger_count</th>\n",
       "      <th>trip_distance</th>\n",
       "      <th>fare_amount</th>\n",
       "      <th>extra</th>\n",
       "      <th>mta_tax</th>\n",
       "      <th>tip_amount</th>\n",
       "      <th>tolls_amount</th>\n",
       "      <th>ehail_fee</th>\n",
       "      <th>improvement_surcharge</th>\n",
       "      <th>total_amount</th>\n",
       "      <th>payment_type</th>\n",
       "      <th>trip_type</th>\n",
       "      <th>congestion_surcharge</th>\n",
       "    </tr>\n",
       "  </thead>\n",
       "  <tbody>\n",
       "    <tr>\n",
       "      <th>0</th>\n",
       "      <td>2</td>\n",
       "      <td>2020-02-01 00:10:25</td>\n",
       "      <td>2020-02-01 00:14:34</td>\n",
       "      <td>N</td>\n",
       "      <td>1.0</td>\n",
       "      <td>74</td>\n",
       "      <td>41</td>\n",
       "      <td>1.0</td>\n",
       "      <td>0.76</td>\n",
       "      <td>4.5</td>\n",
       "      <td>0.5</td>\n",
       "      <td>0.5</td>\n",
       "      <td>0.00</td>\n",
       "      <td>0.0</td>\n",
       "      <td>NaN</td>\n",
       "      <td>0.3</td>\n",
       "      <td>5.80</td>\n",
       "      <td>2.0</td>\n",
       "      <td>1.0</td>\n",
       "      <td>0.0</td>\n",
       "    </tr>\n",
       "    <tr>\n",
       "      <th>1</th>\n",
       "      <td>2</td>\n",
       "      <td>2020-02-01 00:16:59</td>\n",
       "      <td>2020-02-01 00:21:35</td>\n",
       "      <td>N</td>\n",
       "      <td>1.0</td>\n",
       "      <td>74</td>\n",
       "      <td>74</td>\n",
       "      <td>1.0</td>\n",
       "      <td>0.72</td>\n",
       "      <td>5.0</td>\n",
       "      <td>0.5</td>\n",
       "      <td>0.5</td>\n",
       "      <td>0.00</td>\n",
       "      <td>0.0</td>\n",
       "      <td>NaN</td>\n",
       "      <td>0.3</td>\n",
       "      <td>6.30</td>\n",
       "      <td>1.0</td>\n",
       "      <td>1.0</td>\n",
       "      <td>0.0</td>\n",
       "    </tr>\n",
       "    <tr>\n",
       "      <th>2</th>\n",
       "      <td>2</td>\n",
       "      <td>2020-02-01 00:19:31</td>\n",
       "      <td>2020-02-01 00:25:29</td>\n",
       "      <td>N</td>\n",
       "      <td>1.0</td>\n",
       "      <td>223</td>\n",
       "      <td>7</td>\n",
       "      <td>1.0</td>\n",
       "      <td>0.89</td>\n",
       "      <td>6.0</td>\n",
       "      <td>0.5</td>\n",
       "      <td>0.5</td>\n",
       "      <td>1.82</td>\n",
       "      <td>0.0</td>\n",
       "      <td>NaN</td>\n",
       "      <td>0.3</td>\n",
       "      <td>9.12</td>\n",
       "      <td>1.0</td>\n",
       "      <td>1.0</td>\n",
       "      <td>0.0</td>\n",
       "    </tr>\n",
       "    <tr>\n",
       "      <th>3</th>\n",
       "      <td>2</td>\n",
       "      <td>2020-02-01 00:43:52</td>\n",
       "      <td>2020-02-01 00:48:58</td>\n",
       "      <td>N</td>\n",
       "      <td>1.0</td>\n",
       "      <td>145</td>\n",
       "      <td>145</td>\n",
       "      <td>1.0</td>\n",
       "      <td>1.12</td>\n",
       "      <td>6.0</td>\n",
       "      <td>0.5</td>\n",
       "      <td>0.5</td>\n",
       "      <td>0.00</td>\n",
       "      <td>0.0</td>\n",
       "      <td>NaN</td>\n",
       "      <td>0.3</td>\n",
       "      <td>7.30</td>\n",
       "      <td>2.0</td>\n",
       "      <td>1.0</td>\n",
       "      <td>0.0</td>\n",
       "    </tr>\n",
       "    <tr>\n",
       "      <th>4</th>\n",
       "      <td>2</td>\n",
       "      <td>2020-02-01 00:32:53</td>\n",
       "      <td>2020-02-01 00:35:19</td>\n",
       "      <td>N</td>\n",
       "      <td>1.0</td>\n",
       "      <td>166</td>\n",
       "      <td>166</td>\n",
       "      <td>1.0</td>\n",
       "      <td>0.65</td>\n",
       "      <td>4.0</td>\n",
       "      <td>0.5</td>\n",
       "      <td>0.5</td>\n",
       "      <td>1.06</td>\n",
       "      <td>0.0</td>\n",
       "      <td>NaN</td>\n",
       "      <td>0.3</td>\n",
       "      <td>6.36</td>\n",
       "      <td>1.0</td>\n",
       "      <td>1.0</td>\n",
       "      <td>0.0</td>\n",
       "    </tr>\n",
       "  </tbody>\n",
       "</table>\n",
       "</div>"
      ],
      "text/plain": [
       "   VendorID lpep_pickup_datetime lpep_dropoff_datetime store_and_fwd_flag  \\\n",
       "0         2  2020-02-01 00:10:25   2020-02-01 00:14:34                  N   \n",
       "1         2  2020-02-01 00:16:59   2020-02-01 00:21:35                  N   \n",
       "2         2  2020-02-01 00:19:31   2020-02-01 00:25:29                  N   \n",
       "3         2  2020-02-01 00:43:52   2020-02-01 00:48:58                  N   \n",
       "4         2  2020-02-01 00:32:53   2020-02-01 00:35:19                  N   \n",
       "\n",
       "   RatecodeID  PULocationID  DOLocationID  passenger_count  trip_distance  \\\n",
       "0         1.0            74            41              1.0           0.76   \n",
       "1         1.0            74            74              1.0           0.72   \n",
       "2         1.0           223             7              1.0           0.89   \n",
       "3         1.0           145           145              1.0           1.12   \n",
       "4         1.0           166           166              1.0           0.65   \n",
       "\n",
       "   fare_amount  extra  mta_tax  tip_amount  tolls_amount  ehail_fee  \\\n",
       "0          4.5    0.5      0.5        0.00           0.0        NaN   \n",
       "1          5.0    0.5      0.5        0.00           0.0        NaN   \n",
       "2          6.0    0.5      0.5        1.82           0.0        NaN   \n",
       "3          6.0    0.5      0.5        0.00           0.0        NaN   \n",
       "4          4.0    0.5      0.5        1.06           0.0        NaN   \n",
       "\n",
       "   improvement_surcharge  total_amount  payment_type  trip_type  \\\n",
       "0                    0.3          5.80           2.0        1.0   \n",
       "1                    0.3          6.30           1.0        1.0   \n",
       "2                    0.3          9.12           1.0        1.0   \n",
       "3                    0.3          7.30           2.0        1.0   \n",
       "4                    0.3          6.36           1.0        1.0   \n",
       "\n",
       "   congestion_surcharge  \n",
       "0                   0.0  \n",
       "1                   0.0  \n",
       "2                   0.0  \n",
       "3                   0.0  \n",
       "4                   0.0  "
      ]
     },
     "execution_count": 1,
     "metadata": {},
     "output_type": "execute_result"
    }
   ],
   "source": [
    "!pip install fastparquet\n",
    "\n",
    "import pandas as pd\n",
    "import numpy as np\n",
    "from sklearn.ensemble import RandomForestRegressor\n",
    "from sklearn.model_selection import train_test_split\n",
    "from sklearn.metrics import mean_squared_error\n",
    "import matplotlib.pyplot as plt\n",
    "import seaborn as sns\n",
    "sns.set_style('darkgrid')\n",
    "\n",
    "tripdata_df = pd.read_parquet(path = 'https://d37ci6vzurychx.cloudfront.net/trip-data/green_tripdata_2020-02.parquet', #provide the URL to the data source\n",
    "                      engine = 'fastparquet')\n",
    "\n",
    "tripdata_df.head()\n"
   ]
  },
  {
   "cell_type": "code",
   "execution_count": 2,
   "id": "70267bf3",
   "metadata": {},
   "outputs": [
    {
     "data": {
      "text/plain": [
       "398631    7\n",
       "344706    7\n",
       "344699    7\n",
       "344700    7\n",
       "344701    7\n",
       "         ..\n",
       "132875    1\n",
       "132874    1\n",
       "132873    1\n",
       "132872    1\n",
       "199316    1\n",
       "Length: 398632, dtype: int64"
      ]
     },
     "execution_count": 2,
     "metadata": {},
     "output_type": "execute_result"
    }
   ],
   "source": [
    "tripdata_df.isnull().sum(axis=1).sort_values(ascending=False)"
   ]
  },
  {
   "cell_type": "code",
   "execution_count": 3,
   "id": "75674a79",
   "metadata": {},
   "outputs": [
    {
     "data": {
      "text/html": [
       "<div>\n",
       "<style scoped>\n",
       "    .dataframe tbody tr th:only-of-type {\n",
       "        vertical-align: middle;\n",
       "    }\n",
       "\n",
       "    .dataframe tbody tr th {\n",
       "        vertical-align: top;\n",
       "    }\n",
       "\n",
       "    .dataframe thead th {\n",
       "        text-align: right;\n",
       "    }\n",
       "</style>\n",
       "<table border=\"1\" class=\"dataframe\">\n",
       "  <thead>\n",
       "    <tr style=\"text-align: right;\">\n",
       "      <th></th>\n",
       "      <th>VendorID</th>\n",
       "      <th>lpep_pickup_datetime</th>\n",
       "      <th>lpep_dropoff_datetime</th>\n",
       "      <th>store_and_fwd_flag</th>\n",
       "      <th>RatecodeID</th>\n",
       "      <th>PULocationID</th>\n",
       "      <th>DOLocationID</th>\n",
       "      <th>passenger_count</th>\n",
       "      <th>trip_distance</th>\n",
       "      <th>fare_amount</th>\n",
       "      <th>extra</th>\n",
       "      <th>mta_tax</th>\n",
       "      <th>tip_amount</th>\n",
       "      <th>tolls_amount</th>\n",
       "      <th>improvement_surcharge</th>\n",
       "      <th>total_amount</th>\n",
       "      <th>payment_type</th>\n",
       "      <th>trip_type</th>\n",
       "      <th>congestion_surcharge</th>\n",
       "    </tr>\n",
       "  </thead>\n",
       "  <tbody>\n",
       "    <tr>\n",
       "      <th>0</th>\n",
       "      <td>2</td>\n",
       "      <td>2020-02-01 00:10:25</td>\n",
       "      <td>2020-02-01 00:14:34</td>\n",
       "      <td>N</td>\n",
       "      <td>1.0</td>\n",
       "      <td>74</td>\n",
       "      <td>41</td>\n",
       "      <td>1.0</td>\n",
       "      <td>0.76</td>\n",
       "      <td>4.5</td>\n",
       "      <td>0.5</td>\n",
       "      <td>0.5</td>\n",
       "      <td>0.00</td>\n",
       "      <td>0.0</td>\n",
       "      <td>0.3</td>\n",
       "      <td>5.80</td>\n",
       "      <td>2.0</td>\n",
       "      <td>1.0</td>\n",
       "      <td>0.0</td>\n",
       "    </tr>\n",
       "    <tr>\n",
       "      <th>1</th>\n",
       "      <td>2</td>\n",
       "      <td>2020-02-01 00:16:59</td>\n",
       "      <td>2020-02-01 00:21:35</td>\n",
       "      <td>N</td>\n",
       "      <td>1.0</td>\n",
       "      <td>74</td>\n",
       "      <td>74</td>\n",
       "      <td>1.0</td>\n",
       "      <td>0.72</td>\n",
       "      <td>5.0</td>\n",
       "      <td>0.5</td>\n",
       "      <td>0.5</td>\n",
       "      <td>0.00</td>\n",
       "      <td>0.0</td>\n",
       "      <td>0.3</td>\n",
       "      <td>6.30</td>\n",
       "      <td>1.0</td>\n",
       "      <td>1.0</td>\n",
       "      <td>0.0</td>\n",
       "    </tr>\n",
       "    <tr>\n",
       "      <th>2</th>\n",
       "      <td>2</td>\n",
       "      <td>2020-02-01 00:19:31</td>\n",
       "      <td>2020-02-01 00:25:29</td>\n",
       "      <td>N</td>\n",
       "      <td>1.0</td>\n",
       "      <td>223</td>\n",
       "      <td>7</td>\n",
       "      <td>1.0</td>\n",
       "      <td>0.89</td>\n",
       "      <td>6.0</td>\n",
       "      <td>0.5</td>\n",
       "      <td>0.5</td>\n",
       "      <td>1.82</td>\n",
       "      <td>0.0</td>\n",
       "      <td>0.3</td>\n",
       "      <td>9.12</td>\n",
       "      <td>1.0</td>\n",
       "      <td>1.0</td>\n",
       "      <td>0.0</td>\n",
       "    </tr>\n",
       "    <tr>\n",
       "      <th>3</th>\n",
       "      <td>2</td>\n",
       "      <td>2020-02-01 00:43:52</td>\n",
       "      <td>2020-02-01 00:48:58</td>\n",
       "      <td>N</td>\n",
       "      <td>1.0</td>\n",
       "      <td>145</td>\n",
       "      <td>145</td>\n",
       "      <td>1.0</td>\n",
       "      <td>1.12</td>\n",
       "      <td>6.0</td>\n",
       "      <td>0.5</td>\n",
       "      <td>0.5</td>\n",
       "      <td>0.00</td>\n",
       "      <td>0.0</td>\n",
       "      <td>0.3</td>\n",
       "      <td>7.30</td>\n",
       "      <td>2.0</td>\n",
       "      <td>1.0</td>\n",
       "      <td>0.0</td>\n",
       "    </tr>\n",
       "    <tr>\n",
       "      <th>4</th>\n",
       "      <td>2</td>\n",
       "      <td>2020-02-01 00:32:53</td>\n",
       "      <td>2020-02-01 00:35:19</td>\n",
       "      <td>N</td>\n",
       "      <td>1.0</td>\n",
       "      <td>166</td>\n",
       "      <td>166</td>\n",
       "      <td>1.0</td>\n",
       "      <td>0.65</td>\n",
       "      <td>4.0</td>\n",
       "      <td>0.5</td>\n",
       "      <td>0.5</td>\n",
       "      <td>1.06</td>\n",
       "      <td>0.0</td>\n",
       "      <td>0.3</td>\n",
       "      <td>6.36</td>\n",
       "      <td>1.0</td>\n",
       "      <td>1.0</td>\n",
       "      <td>0.0</td>\n",
       "    </tr>\n",
       "    <tr>\n",
       "      <th>...</th>\n",
       "      <td>...</td>\n",
       "      <td>...</td>\n",
       "      <td>...</td>\n",
       "      <td>...</td>\n",
       "      <td>...</td>\n",
       "      <td>...</td>\n",
       "      <td>...</td>\n",
       "      <td>...</td>\n",
       "      <td>...</td>\n",
       "      <td>...</td>\n",
       "      <td>...</td>\n",
       "      <td>...</td>\n",
       "      <td>...</td>\n",
       "      <td>...</td>\n",
       "      <td>...</td>\n",
       "      <td>...</td>\n",
       "      <td>...</td>\n",
       "      <td>...</td>\n",
       "      <td>...</td>\n",
       "    </tr>\n",
       "    <tr>\n",
       "      <th>70</th>\n",
       "      <td>2</td>\n",
       "      <td>2020-02-01 00:48:44</td>\n",
       "      <td>2020-02-01 01:09:36</td>\n",
       "      <td>N</td>\n",
       "      <td>1.0</td>\n",
       "      <td>112</td>\n",
       "      <td>198</td>\n",
       "      <td>1.0</td>\n",
       "      <td>4.31</td>\n",
       "      <td>16.5</td>\n",
       "      <td>0.5</td>\n",
       "      <td>0.5</td>\n",
       "      <td>3.56</td>\n",
       "      <td>0.0</td>\n",
       "      <td>0.3</td>\n",
       "      <td>21.36</td>\n",
       "      <td>1.0</td>\n",
       "      <td>1.0</td>\n",
       "      <td>0.0</td>\n",
       "    </tr>\n",
       "    <tr>\n",
       "      <th>71</th>\n",
       "      <td>2</td>\n",
       "      <td>2020-02-01 00:16:53</td>\n",
       "      <td>2020-02-01 00:22:27</td>\n",
       "      <td>N</td>\n",
       "      <td>1.0</td>\n",
       "      <td>255</td>\n",
       "      <td>256</td>\n",
       "      <td>1.0</td>\n",
       "      <td>0.98</td>\n",
       "      <td>5.5</td>\n",
       "      <td>0.5</td>\n",
       "      <td>0.5</td>\n",
       "      <td>1.36</td>\n",
       "      <td>0.0</td>\n",
       "      <td>0.3</td>\n",
       "      <td>8.16</td>\n",
       "      <td>1.0</td>\n",
       "      <td>1.0</td>\n",
       "      <td>0.0</td>\n",
       "    </tr>\n",
       "    <tr>\n",
       "      <th>72</th>\n",
       "      <td>2</td>\n",
       "      <td>2020-02-01 00:25:33</td>\n",
       "      <td>2020-02-01 00:44:19</td>\n",
       "      <td>N</td>\n",
       "      <td>1.0</td>\n",
       "      <td>256</td>\n",
       "      <td>225</td>\n",
       "      <td>1.0</td>\n",
       "      <td>3.23</td>\n",
       "      <td>14.5</td>\n",
       "      <td>0.5</td>\n",
       "      <td>0.5</td>\n",
       "      <td>0.00</td>\n",
       "      <td>0.0</td>\n",
       "      <td>0.3</td>\n",
       "      <td>15.80</td>\n",
       "      <td>2.0</td>\n",
       "      <td>1.0</td>\n",
       "      <td>0.0</td>\n",
       "    </tr>\n",
       "    <tr>\n",
       "      <th>73</th>\n",
       "      <td>2</td>\n",
       "      <td>2020-02-01 00:56:55</td>\n",
       "      <td>2020-02-01 01:01:15</td>\n",
       "      <td>N</td>\n",
       "      <td>1.0</td>\n",
       "      <td>49</td>\n",
       "      <td>225</td>\n",
       "      <td>1.0</td>\n",
       "      <td>1.01</td>\n",
       "      <td>5.5</td>\n",
       "      <td>0.5</td>\n",
       "      <td>0.5</td>\n",
       "      <td>0.00</td>\n",
       "      <td>0.0</td>\n",
       "      <td>0.3</td>\n",
       "      <td>6.80</td>\n",
       "      <td>2.0</td>\n",
       "      <td>1.0</td>\n",
       "      <td>0.0</td>\n",
       "    </tr>\n",
       "    <tr>\n",
       "      <th>74</th>\n",
       "      <td>2</td>\n",
       "      <td>2020-02-01 00:10:14</td>\n",
       "      <td>2020-02-01 00:18:50</td>\n",
       "      <td>N</td>\n",
       "      <td>1.0</td>\n",
       "      <td>41</td>\n",
       "      <td>116</td>\n",
       "      <td>1.0</td>\n",
       "      <td>1.87</td>\n",
       "      <td>8.5</td>\n",
       "      <td>0.5</td>\n",
       "      <td>0.5</td>\n",
       "      <td>0.00</td>\n",
       "      <td>0.0</td>\n",
       "      <td>0.3</td>\n",
       "      <td>9.80</td>\n",
       "      <td>1.0</td>\n",
       "      <td>1.0</td>\n",
       "      <td>0.0</td>\n",
       "    </tr>\n",
       "  </tbody>\n",
       "</table>\n",
       "<p>75 rows × 19 columns</p>\n",
       "</div>"
      ],
      "text/plain": [
       "    VendorID lpep_pickup_datetime lpep_dropoff_datetime store_and_fwd_flag  \\\n",
       "0          2  2020-02-01 00:10:25   2020-02-01 00:14:34                  N   \n",
       "1          2  2020-02-01 00:16:59   2020-02-01 00:21:35                  N   \n",
       "2          2  2020-02-01 00:19:31   2020-02-01 00:25:29                  N   \n",
       "3          2  2020-02-01 00:43:52   2020-02-01 00:48:58                  N   \n",
       "4          2  2020-02-01 00:32:53   2020-02-01 00:35:19                  N   \n",
       "..       ...                  ...                   ...                ...   \n",
       "70         2  2020-02-01 00:48:44   2020-02-01 01:09:36                  N   \n",
       "71         2  2020-02-01 00:16:53   2020-02-01 00:22:27                  N   \n",
       "72         2  2020-02-01 00:25:33   2020-02-01 00:44:19                  N   \n",
       "73         2  2020-02-01 00:56:55   2020-02-01 01:01:15                  N   \n",
       "74         2  2020-02-01 00:10:14   2020-02-01 00:18:50                  N   \n",
       "\n",
       "    RatecodeID  PULocationID  DOLocationID  passenger_count  trip_distance  \\\n",
       "0          1.0            74            41              1.0           0.76   \n",
       "1          1.0            74            74              1.0           0.72   \n",
       "2          1.0           223             7              1.0           0.89   \n",
       "3          1.0           145           145              1.0           1.12   \n",
       "4          1.0           166           166              1.0           0.65   \n",
       "..         ...           ...           ...              ...            ...   \n",
       "70         1.0           112           198              1.0           4.31   \n",
       "71         1.0           255           256              1.0           0.98   \n",
       "72         1.0           256           225              1.0           3.23   \n",
       "73         1.0            49           225              1.0           1.01   \n",
       "74         1.0            41           116              1.0           1.87   \n",
       "\n",
       "    fare_amount  extra  mta_tax  tip_amount  tolls_amount  \\\n",
       "0           4.5    0.5      0.5        0.00           0.0   \n",
       "1           5.0    0.5      0.5        0.00           0.0   \n",
       "2           6.0    0.5      0.5        1.82           0.0   \n",
       "3           6.0    0.5      0.5        0.00           0.0   \n",
       "4           4.0    0.5      0.5        1.06           0.0   \n",
       "..          ...    ...      ...         ...           ...   \n",
       "70         16.5    0.5      0.5        3.56           0.0   \n",
       "71          5.5    0.5      0.5        1.36           0.0   \n",
       "72         14.5    0.5      0.5        0.00           0.0   \n",
       "73          5.5    0.5      0.5        0.00           0.0   \n",
       "74          8.5    0.5      0.5        0.00           0.0   \n",
       "\n",
       "    improvement_surcharge  total_amount  payment_type  trip_type  \\\n",
       "0                     0.3          5.80           2.0        1.0   \n",
       "1                     0.3          6.30           1.0        1.0   \n",
       "2                     0.3          9.12           1.0        1.0   \n",
       "3                     0.3          7.30           2.0        1.0   \n",
       "4                     0.3          6.36           1.0        1.0   \n",
       "..                    ...           ...           ...        ...   \n",
       "70                    0.3         21.36           1.0        1.0   \n",
       "71                    0.3          8.16           1.0        1.0   \n",
       "72                    0.3         15.80           2.0        1.0   \n",
       "73                    0.3          6.80           2.0        1.0   \n",
       "74                    0.3          9.80           1.0        1.0   \n",
       "\n",
       "    congestion_surcharge  \n",
       "0                    0.0  \n",
       "1                    0.0  \n",
       "2                    0.0  \n",
       "3                    0.0  \n",
       "4                    0.0  \n",
       "..                   ...  \n",
       "70                   0.0  \n",
       "71                   0.0  \n",
       "72                   0.0  \n",
       "73                   0.0  \n",
       "74                   0.0  \n",
       "\n",
       "[75 rows x 19 columns]"
      ]
     },
     "execution_count": 3,
     "metadata": {},
     "output_type": "execute_result"
    }
   ],
   "source": [
    "#performing EDA plus TA recommended changes to EDA\n",
    "\n",
    "#dropping 'ehail_fee'\n",
    "tripdata_df = tripdata_df.drop(columns=['ehail_fee'])\n",
    "\n",
    "#dropping all NaN values from the data set\n",
    "tripdata_df = tripdata_df.dropna()\n",
    "\n",
    "tripdata_df.head(75)"
   ]
  },
  {
   "cell_type": "code",
   "execution_count": 4,
   "id": "914f0b4d",
   "metadata": {},
   "outputs": [
    {
     "data": {
      "text/plain": [
       "N    316828\n",
       "Y       910\n",
       "Name: store_and_fwd_flag, dtype: int64"
      ]
     },
     "execution_count": 4,
     "metadata": {},
     "output_type": "execute_result"
    }
   ],
   "source": [
    "tripdata_df['store_and_fwd_flag'].value_counts(dropna=False)"
   ]
  },
  {
   "cell_type": "code",
   "execution_count": 5,
   "id": "19c98e6d",
   "metadata": {},
   "outputs": [
    {
     "data": {
      "text/plain": [
       "1.0     309477\n",
       "5.0       7246\n",
       "2.0        620\n",
       "4.0        263\n",
       "3.0        130\n",
       "6.0          1\n",
       "99.0         1\n",
       "Name: RatecodeID, dtype: int64"
      ]
     },
     "execution_count": 5,
     "metadata": {},
     "output_type": "execute_result"
    }
   ],
   "source": [
    "tripdata_df['RatecodeID'].value_counts(dropna=False)"
   ]
  },
  {
   "cell_type": "code",
   "execution_count": 6,
   "id": "f63fc068",
   "metadata": {},
   "outputs": [
    {
     "data": {
      "text/plain": [
       "1.0    273447\n",
       "2.0     23121\n",
       "5.0      9178\n",
       "3.0      4927\n",
       "6.0      4809\n",
       "4.0      1775\n",
       "0.0       464\n",
       "7.0         9\n",
       "8.0         8\n",
       "Name: passenger_count, dtype: int64"
      ]
     },
     "execution_count": 6,
     "metadata": {},
     "output_type": "execute_result"
    }
   ],
   "source": [
    "tripdata_df['passenger_count'].value_counts(dropna=False)"
   ]
  },
  {
   "cell_type": "code",
   "execution_count": 7,
   "id": "207f70fd",
   "metadata": {},
   "outputs": [
    {
     "data": {
      "text/plain": [
       "1.0    176529\n",
       "2.0    138849\n",
       "3.0      1767\n",
       "4.0       579\n",
       "5.0        14\n",
       "Name: payment_type, dtype: int64"
      ]
     },
     "execution_count": 7,
     "metadata": {},
     "output_type": "execute_result"
    }
   ],
   "source": [
    "tripdata_df['payment_type'].value_counts(dropna=False)"
   ]
  },
  {
   "cell_type": "code",
   "execution_count": 8,
   "id": "c57a11b0",
   "metadata": {},
   "outputs": [
    {
     "data": {
      "text/plain": [
       "1.0    310466\n",
       "2.0      7272\n",
       "Name: trip_type, dtype: int64"
      ]
     },
     "execution_count": 8,
     "metadata": {},
     "output_type": "execute_result"
    }
   ],
   "source": [
    "tripdata_df['trip_type'].value_counts(dropna=False)"
   ]
  },
  {
   "cell_type": "code",
   "execution_count": 9,
   "id": "07e8db08",
   "metadata": {},
   "outputs": [
    {
     "data": {
      "text/plain": [
       "0.00    263466\n",
       "2.75     54205\n",
       "2.50        66\n",
       "0.75         1\n",
       "Name: congestion_surcharge, dtype: int64"
      ]
     },
     "execution_count": 9,
     "metadata": {},
     "output_type": "execute_result"
    }
   ],
   "source": [
    "tripdata_df['congestion_surcharge'].value_counts(dropna=False)"
   ]
  },
  {
   "cell_type": "code",
   "execution_count": 10,
   "id": "1bb230b9",
   "metadata": {},
   "outputs": [
    {
     "data": {
      "text/plain": [
       "7.30     9804\n",
       "7.80     9582\n",
       "6.80     9495\n",
       "8.30     9103\n",
       "6.30     8520\n",
       "         ... \n",
       "43.47       1\n",
       "15.76       1\n",
       "19.06       1\n",
       "23.77       1\n",
       "30.03       1\n",
       "Name: total_amount, Length: 4382, dtype: int64"
      ]
     },
     "execution_count": 10,
     "metadata": {},
     "output_type": "execute_result"
    }
   ],
   "source": [
    "tripdata_df['total_amount'].value_counts(dropna=False)"
   ]
  },
  {
   "cell_type": "code",
   "execution_count": 11,
   "id": "941deb40",
   "metadata": {},
   "outputs": [
    {
     "data": {
      "text/plain": [
       "0"
      ]
     },
     "execution_count": 11,
     "metadata": {},
     "output_type": "execute_result"
    }
   ],
   "source": [
    "#dropping negative values from the 'total_amount' column\n",
    "tripdata_df = tripdata_df[tripdata_df.total_amount > 0]\n",
    "\n",
    "(tripdata_df['total_amount'] < 0).sum().sum()\n",
    "\n"
   ]
  },
  {
   "cell_type": "markdown",
   "id": "1268c2fe",
   "metadata": {},
   "source": [
    "(5 pts) Select the required features to build your model based on the insights from your EDA. Briefly explain the reason for the features that you selected. Ensure that you encode any categorical features."
   ]
  },
  {
   "cell_type": "code",
   "execution_count": 12,
   "id": "ca909077",
   "metadata": {},
   "outputs": [],
   "source": [
    "tripdata_df = pd.get_dummies(tripdata_df, drop_first=True)"
   ]
  },
  {
   "cell_type": "code",
   "execution_count": 13,
   "id": "7b8563a6",
   "metadata": {},
   "outputs": [],
   "source": [
    "#input features\n",
    "X = tripdata_df[['trip_distance', 'total_amount', 'payment_type', ]]\n",
    "\n",
    "#target\n",
    "y = tripdata_df['tip_amount']\n",
    "\n"
   ]
  },
  {
   "cell_type": "markdown",
   "id": "11b078d3",
   "metadata": {},
   "source": [
    "I chose the features 'trip_distance', 'total_amount', and 'payment_type' for the following reasons: A longer trip perhaps gives passengers more time to become friendly with a cab driver, thus influencing their tip. At the very least, a passenger will leave a tip commensurate to the amount that a driver has driven. The total amount of the cab fare will likely also play a role in how much a passenger leaves as a tip. Like in a restaurant, perhaps passengers feel as though they should leave some percentage of the total fare as a tip. Finally, I believe that payment type also plays  a role in how much of a tip is left. If a passenger pays with a card, perhaps they have little to no cash, and thus leave a small tip or none at all."
   ]
  },
  {
   "cell_type": "markdown",
   "id": "850c400e",
   "metadata": {},
   "source": [
    "(5 pts) Partition the data into train/test split."
   ]
  },
  {
   "cell_type": "code",
   "execution_count": 19,
   "id": "c8795e7b",
   "metadata": {},
   "outputs": [],
   "source": [
    "\n",
    "X_train, X_test, y_train, y_test = train_test_split(X,\n",
    "                                                   y,\n",
    "                                                   test_size=0.3,\n",
    "                                                   random_state=7,\n",
    "                                                   )\n",
    "\n"
   ]
  },
  {
   "cell_type": "markdown",
   "id": "fb53db68",
   "metadata": {},
   "source": [
    "(15 pts) Build a model that predicts the tip amount."
   ]
  },
  {
   "cell_type": "code",
   "execution_count": 23,
   "id": "8137a22b",
   "metadata": {},
   "outputs": [
    {
     "data": {
      "text/plain": [
       "RandomForestRegressor(random_state=7)"
      ]
     },
     "execution_count": 23,
     "metadata": {},
     "output_type": "execute_result"
    }
   ],
   "source": [
    "rf = RandomForestRegressor(random_state=7)\n",
    "rf.fit(X_train, y_train)"
   ]
  },
  {
   "cell_type": "code",
   "execution_count": 24,
   "id": "bb1fb817",
   "metadata": {},
   "outputs": [
    {
     "name": "stdout",
     "output_type": "stream",
     "text": [
      "The predicted tip amount is: [0.         1.82643333 1.34817172 ... 1.46       1.9977     1.96      ]\n"
     ]
    }
   ],
   "source": [
    "y_pred   = rf.predict(X_test)\n",
    "\n",
    "print('The predicted tip amount is: {}'.format(y_pred))"
   ]
  },
  {
   "cell_type": "markdown",
   "id": "6594a170",
   "metadata": {},
   "source": [
    "(5 pts) Evaluate the predictions from your model and comment on the results. Ensure that you choose the correct metric. Remember that we evaluate models differently depending on the task, i.e. classification or regression."
   ]
  },
  {
   "cell_type": "code",
   "execution_count": 25,
   "id": "732c428a",
   "metadata": {},
   "outputs": [
    {
     "name": "stdout",
     "output_type": "stream",
     "text": [
      "The mse of the model is: 4.112051191999708\n"
     ]
    }
   ],
   "source": [
    "mse = mean_squared_error(y_test, y_pred)\n",
    "\n",
    "print('The mse of the model is: {}'.format(mse))"
   ]
  },
  {
   "cell_type": "markdown",
   "id": "bdbf9940",
   "metadata": {},
   "source": [
    "This mean squared error doesn't indicate that the chosen features are great indicators of tip amount"
   ]
  },
  {
   "cell_type": "markdown",
   "id": "b4180f99",
   "metadata": {},
   "source": [
    "(10 pts) How do you feel about the model? Does it do a good job of predicting the tip_amount?\n",
    "Tweak the model: you can control the number of trees in your forest using the n_estimators parameter. Refer to the sample code from the lecture and also view the documentation. to learn more about this algorithm and its parameters. Try at least three different values for the n_estimators parameter to determine if the predictions improved (or did they get worse)? Show your steps."
   ]
  },
  {
   "cell_type": "markdown",
   "id": "fcd024ad",
   "metadata": {},
   "source": [
    "I think that the model isn't accurate enough to be taken seriously. I'll tweak it by trying different n_estimators values to try to improve the predictions."
   ]
  },
  {
   "cell_type": "code",
   "execution_count": 26,
   "id": "96acb03e",
   "metadata": {},
   "outputs": [
    {
     "name": "stdout",
     "output_type": "stream",
     "text": [
      "The mse of the model is: 4.006536404162277\n"
     ]
    }
   ],
   "source": [
    "#n_estimators = 200\n",
    "rf = RandomForestRegressor(random_state=7, n_estimators=200)\n",
    "rf.fit(X_train, y_train)\n",
    "\n",
    "y_pred   = rf.predict(X_test)\n",
    "\n",
    "mse = mean_squared_error(y_test, y_pred)\n",
    "\n",
    "print('The mse of the model is: {}'.format(mse))"
   ]
  },
  {
   "cell_type": "code",
   "execution_count": 27,
   "id": "6eeb009a",
   "metadata": {},
   "outputs": [
    {
     "name": "stdout",
     "output_type": "stream",
     "text": [
      "The mse of the model is: 4.059405156417716\n"
     ]
    }
   ],
   "source": [
    "#n_estimators = 300\n",
    "rf = RandomForestRegressor(random_state=7, n_estimators=300)\n",
    "rf.fit(X_train, y_train)\n",
    "\n",
    "y_pred   = rf.predict(X_test)\n",
    "\n",
    "mse = mean_squared_error(y_test, y_pred)\n",
    "\n",
    "print('The mse of the model is: {}'.format(mse))"
   ]
  },
  {
   "cell_type": "code",
   "execution_count": 28,
   "id": "b3fb0f1c",
   "metadata": {},
   "outputs": [
    {
     "name": "stdout",
     "output_type": "stream",
     "text": [
      "The mse of the model is: 4.008524614425164\n"
     ]
    }
   ],
   "source": [
    "#n_estimators = 250\n",
    "rf = RandomForestRegressor(random_state=7, n_estimators=250)\n",
    "rf.fit(X_train, y_train)\n",
    "\n",
    "y_pred   = rf.predict(X_test)\n",
    "\n",
    "mse = mean_squared_error(y_test, y_pred)\n",
    "\n",
    "print('The mse of the model is: {}'.format(mse))"
   ]
  },
  {
   "cell_type": "code",
   "execution_count": 30,
   "id": "c2671db4",
   "metadata": {},
   "outputs": [
    {
     "name": "stdout",
     "output_type": "stream",
     "text": [
      "The mse of the model is: 3.993748172988104\n"
     ]
    }
   ],
   "source": [
    "#n_estimators = 225\n",
    "rf = RandomForestRegressor(random_state=7, n_estimators=225)\n",
    "rf.fit(X_train, y_train)\n",
    "\n",
    "y_pred   = rf.predict(X_test)\n",
    "\n",
    "mse = mean_squared_error(y_test, y_pred)\n",
    "\n",
    "print('The mse of the model is: {}'.format(mse))"
   ]
  },
  {
   "cell_type": "code",
   "execution_count": 33,
   "id": "025461c0",
   "metadata": {},
   "outputs": [
    {
     "name": "stdout",
     "output_type": "stream",
     "text": [
      "The mse of the model is: 4.000811063392419\n"
     ]
    }
   ],
   "source": [
    "#n_estimators = 217\n",
    "rf = RandomForestRegressor(random_state=7, n_estimators=217)\n",
    "rf.fit(X_train, y_train)\n",
    "\n",
    "y_pred   = rf.predict(X_test)\n",
    "\n",
    "mse = mean_squared_error(y_test, y_pred)\n",
    "\n",
    "print('The mse of the model is: {}'.format(mse))"
   ]
  },
  {
   "cell_type": "code",
   "execution_count": 34,
   "id": "6a10e1f4",
   "metadata": {},
   "outputs": [
    {
     "name": "stdout",
     "output_type": "stream",
     "text": [
      "The mse of the model is: 4.011620993220357\n"
     ]
    }
   ],
   "source": [
    "#n_estimators = 237\n",
    "rf = RandomForestRegressor(random_state=7, n_estimators=237)\n",
    "rf.fit(X_train, y_train)\n",
    "\n",
    "y_pred   = rf.predict(X_test)\n",
    "\n",
    "mse = mean_squared_error(y_test, y_pred)\n",
    "\n",
    "print('The mse of the model is: {}'.format(mse))"
   ]
  },
  {
   "cell_type": "markdown",
   "id": "096ede29",
   "metadata": {},
   "source": [
    "It looks like changing the n_estimators to 225 gives the best mse result. Still though, not a convincing model."
   ]
  },
  {
   "cell_type": "markdown",
   "id": "839e5363",
   "metadata": {},
   "source": [
    "(+5 bonus points) The Random forest has a method that returns the importance of each feature in your model. Can you find out which of your selected features were the most important when making the predictions?"
   ]
  },
  {
   "cell_type": "code",
   "execution_count": 31,
   "id": "b7176486",
   "metadata": {},
   "outputs": [
    {
     "data": {
      "text/plain": [
       "array([0.24243185, 0.48878329, 0.26878486])"
      ]
     },
     "execution_count": 31,
     "metadata": {},
     "output_type": "execute_result"
    }
   ],
   "source": [
    "rf.feature_importances_"
   ]
  },
  {
   "cell_type": "markdown",
   "id": "4eb4fe84",
   "metadata": {},
   "source": [
    "It appears that total_amount is the strongest predictor of tip_amount. This was expected, however I'm surprised at how little the significance is. "
   ]
  },
  {
   "cell_type": "code",
   "execution_count": null,
   "id": "714e163b",
   "metadata": {},
   "outputs": [],
   "source": []
  }
 ],
 "metadata": {
  "kernelspec": {
   "display_name": "Python 3 (ipykernel)",
   "language": "python",
   "name": "python3"
  },
  "language_info": {
   "codemirror_mode": {
    "name": "ipython",
    "version": 3
   },
   "file_extension": ".py",
   "mimetype": "text/x-python",
   "name": "python",
   "nbconvert_exporter": "python",
   "pygments_lexer": "ipython3",
   "version": "3.9.13"
  }
 },
 "nbformat": 4,
 "nbformat_minor": 5
}
