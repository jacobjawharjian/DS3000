{
 "cells": [
  {
   "cell_type": "markdown",
   "id": "760192a8",
   "metadata": {},
   "source": [
    "# Jacob Jawharjian, Lab 1"
   ]
  },
  {
   "cell_type": "code",
   "execution_count": 6,
   "id": "fb900727",
   "metadata": {},
   "outputs": [
    {
     "name": "stdout",
     "output_type": "stream",
     "text": [
      "What is your name?Jacob\n",
      "... And what year were you born?2002\n",
      "... And what is the current year?2023\n",
      "Jacob, you are (approximately) 21 years old.\n"
     ]
    }
   ],
   "source": [
    "name = input('What is your name?')\n",
    "\n",
    "birth_inp = input('... And what year were you born?')\n",
    "current_inp = input('... And what is the current year?')\n",
    "\n",
    "birth = int(birth_inp)\n",
    "current = int(current_inp)\n",
    "\n",
    "user_age = current - birth\n",
    "\n",
    "print(name + ',', 'you are (approximately)', user_age, 'years old.')"
   ]
  },
  {
   "cell_type": "code",
   "execution_count": null,
   "id": "96f77064",
   "metadata": {},
   "outputs": [],
   "source": []
  }
 ],
 "metadata": {
  "kernelspec": {
   "display_name": "Python 3 (ipykernel)",
   "language": "python",
   "name": "python3"
  },
  "language_info": {
   "codemirror_mode": {
    "name": "ipython",
    "version": 3
   },
   "file_extension": ".py",
   "mimetype": "text/x-python",
   "name": "python",
   "nbconvert_exporter": "python",
   "pygments_lexer": "ipython3",
   "version": "3.9.13"
  }
 },
 "nbformat": 4,
 "nbformat_minor": 5
}
