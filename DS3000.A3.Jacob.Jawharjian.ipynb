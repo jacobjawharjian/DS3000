{
 "cells": [
  {
   "cell_type": "code",
   "execution_count": 1,
   "id": "aec55d91",
   "metadata": {},
   "outputs": [
    {
     "name": "stdout",
     "output_type": "stream",
     "text": [
      "There are 5 columns and 1165 observations in the data set.\n"
     ]
    }
   ],
   "source": [
    "import numpy as np\n",
    "\n",
    "#Question 1.1\n",
    "data = np.loadtxt('exam_grades.csv', \n",
    "                 delimiter = ',',\n",
    "                 skiprows = 1)\n",
    "\n",
    "#Question 1.2\n",
    "print('There are', data.shape[1], 'columns and', data.shape[0] * data.shape[1], 'observations in the data set.')"
   ]
  },
  {
   "cell_type": "code",
   "execution_count": 2,
   "id": "b368697b",
   "metadata": {},
   "outputs": [
    {
     "name": "stdout",
     "output_type": "stream",
     "text": [
      "The minimum exam grade across all exams is a 0.0 and the maximum exam grade across all exams is a 99.5\n"
     ]
    }
   ],
   "source": [
    "#Question 1.3\n",
    "min_exam = data[0:,1:3].min()\n",
    "\n",
    "max_exam = data[0:,1:3].max()\n",
    "print('The minimum exam grade across all exams is a', min_exam, 'and the maximum exam grade across all exams is a', max_exam)"
   ]
  },
  {
   "cell_type": "code",
   "execution_count": 3,
   "id": "5f1d56c4",
   "metadata": {},
   "outputs": [
    {
     "name": "stdout",
     "output_type": "stream",
     "text": [
      "The data set covers the years: [2000, 2001, 2002, 2003].\n"
     ]
    }
   ],
   "source": [
    "#Question 1.4\n",
    "year_list = []\n",
    "\n",
    "for year in data[0:,0]:\n",
    "    if year not in year_list:\n",
    "        year_list.append(int(year))\n",
    "\n",
    "print('The data set covers the years:', str(year_list[0:]) + '.')"
   ]
  },
  {
   "cell_type": "code",
   "execution_count": 4,
   "id": "8b06dbfa",
   "metadata": {},
   "outputs": [
    {
     "name": "stdout",
     "output_type": "stream",
     "text": [
      "Students per year\n",
      " 2000: 86 \n",
      " 2001: 75 \n",
      " 2002: 36 \n",
      " 2003: 36\n"
     ]
    }
   ],
   "source": [
    "#Question 1.4\n",
    "stdt_per_year = [0, 0, 0, 0]\n",
    "spy_ind = 0\n",
    "\n",
    "for year in year_list:\n",
    "    for student in data[0:,0]:\n",
    "        if year == student: \n",
    "            stdt_per_year[spy_ind] += 1\n",
    "    spy_ind += 1\n",
    "    \n",
    "print('Students per year\\n', str(year_list[0]) + ':', stdt_per_year[0],'\\n', str(year_list[1]) + ':', stdt_per_year[1],'\\n',\n",
    "      str(year_list[2]) + ':', stdt_per_year[2],'\\n', str(year_list[3]) + ':', stdt_per_year[3],)"
   ]
  },
  {
   "cell_type": "code",
   "execution_count": 63,
   "id": "d3ea3eb3",
   "metadata": {},
   "outputs": [
    {
     "name": "stdout",
     "output_type": "stream",
     "text": [
      "Statistics for Exam 1 in 2000 :\n",
      "\n",
      "Minimum: 28.0\n",
      "Maximum: 99.5\n",
      "Mean: 73.97\n",
      "Standard deviation: 13.5 \n",
      " \n",
      "\n",
      "Statistics for Exam 1 in 2001 :\n",
      "\n",
      "Minimum: 36.4\n",
      "Maximum: 98.5\n",
      "Mean: 76.37\n",
      "Standard deviation: 13.33 \n",
      " \n",
      "\n",
      "Statistics for Exam 1 in 2002 :\n",
      "\n",
      "Minimum: 47.0\n",
      "Maximum: 99.3\n",
      "Mean: 81.1\n",
      "Standard deviation: 11.33 \n",
      " \n",
      "\n",
      "Statistics for Exam 1 in 2003 :\n",
      "\n",
      "Minimum: 0.0\n",
      "Maximum: 98.89\n",
      "Mean: 76.07\n",
      "Standard deviation: 17.08 \n",
      " \n",
      "\n"
     ]
    }
   ],
   "source": [
    "#Question 1.5\n",
    "for year in year_list:\n",
    "    year_data = data[data[:,0] == year]\n",
    "    exam_scores = year_data[:,1:4]\n",
    "    print('Statistics for Exam 1 in', year, ':\\n')\n",
    "    print('Minimum:', round(np.min(exam_scores), 2))\n",
    "    print('Maximum:', round(np.max(exam_scores), 2))\n",
    "    print('Mean:', round(np.mean(exam_scores), 2))\n",
    "    print('Standard deviation:', round(np.std(exam_scores), 2), '\\n', '\\n')\n",
    "    \n",
    "    "
   ]
  },
  {
   "cell_type": "markdown",
   "id": "5c59ded9",
   "metadata": {},
   "source": [
    "### Question 2\n",
    "\n",
    "Question 2.1\n",
    "\n",
    "Per the reading, one of the most notable differences between NumPy arrays and Python lists is their respective speeds. NumPy arrays are much faster than Python lists and make a considerable difference when dealing with large quantities of data. NumPy also has greater capabilities in terms of performing mathematical operations on numbers like logarithms or trig functions. Finally, NumPy arrays must be of the same data type, whereas Python list contents can be different data types within the same list.\n",
    "\n",
    "Question 2.2\n",
    "\n",
    "One major difference between NumPy arrays and Python lists is that NumPy arrays, having already imported the NumPy library, have access to a wider variety of capabilities regarding mathematical operations. The below operation couldn't be performed on a Python list without first importing some library."
   ]
  },
  {
   "cell_type": "code",
   "execution_count": 66,
   "id": "b6b58570",
   "metadata": {},
   "outputs": [
    {
     "name": "stdout",
     "output_type": "stream",
     "text": [
      "log10(x) = [0.69897    1.         1.17609126 1.30103    1.39794001]\n"
     ]
    }
   ],
   "source": [
    "NumPy_array = np.array([5, 10, 15, 20, 25])\n",
    "\n",
    "print(\"log10(x) =\", np.log10(NumPy_array))\n"
   ]
  },
  {
   "cell_type": "code",
   "execution_count": null,
   "id": "fb58d1a8",
   "metadata": {},
   "outputs": [],
   "source": []
  }
 ],
 "metadata": {
  "kernelspec": {
   "display_name": "Python 3 (ipykernel)",
   "language": "python",
   "name": "python3"
  },
  "language_info": {
   "codemirror_mode": {
    "name": "ipython",
    "version": 3
   },
   "file_extension": ".py",
   "mimetype": "text/x-python",
   "name": "python",
   "nbconvert_exporter": "python",
   "pygments_lexer": "ipython3",
   "version": "3.9.13"
  }
 },
 "nbformat": 4,
 "nbformat_minor": 5
}
