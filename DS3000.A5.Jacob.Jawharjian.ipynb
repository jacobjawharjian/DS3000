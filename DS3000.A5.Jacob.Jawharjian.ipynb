{
 "cells": [
  {
   "cell_type": "markdown",
   "id": "ba49ddef",
   "metadata": {},
   "source": [
    "### Question 1\n",
    "(5 pts) import the data into a dataframe, and extract the following columns: Broad Phase of Flight, Total Uninjured, Total Minor Injuries, Total Serious Injuries, Total Fatal Injuries, Air Carrier, Make, Model, Aircraft Category, Aircraft Damage, Injury Severity, Country, Event Date, Investigation Type, Event Id.\n",
    "Remove leading and trailing white-spaces from the selected columns, convert their data to suitable data types and perform at least one additional data preparation step."
   ]
  },
  {
   "cell_type": "code",
   "execution_count": 1,
   "id": "0588a7de",
   "metadata": {},
   "outputs": [],
   "source": [
    "import pandas as pd\n",
    "import matplotlib.pyplot as plt\n",
    "import numpy as np"
   ]
  },
  {
   "cell_type": "code",
   "execution_count": 2,
   "id": "8b1db75e",
   "metadata": {},
   "outputs": [],
   "source": [
    "flightdata_df = pd.read_csv('aviation_data.csv', delimiter = '|')"
   ]
  },
  {
   "cell_type": "code",
   "execution_count": 3,
   "id": "ea0e87fe",
   "metadata": {},
   "outputs": [
    {
     "data": {
      "text/html": [
       "<div>\n",
       "<style scoped>\n",
       "    .dataframe tbody tr th:only-of-type {\n",
       "        vertical-align: middle;\n",
       "    }\n",
       "\n",
       "    .dataframe tbody tr th {\n",
       "        vertical-align: top;\n",
       "    }\n",
       "\n",
       "    .dataframe thead th {\n",
       "        text-align: right;\n",
       "    }\n",
       "</style>\n",
       "<table border=\"1\" class=\"dataframe\">\n",
       "  <thead>\n",
       "    <tr style=\"text-align: right;\">\n",
       "      <th></th>\n",
       "      <th>Event Id</th>\n",
       "      <th>Investigation Type</th>\n",
       "      <th>Accident Number</th>\n",
       "      <th>Event Date</th>\n",
       "      <th>Location</th>\n",
       "      <th>Country</th>\n",
       "      <th>Latitude</th>\n",
       "      <th>Longitude</th>\n",
       "      <th>Airport Code</th>\n",
       "      <th>Airport Name</th>\n",
       "      <th>...</th>\n",
       "      <th>Air Carrier</th>\n",
       "      <th>Total Fatal Injuries</th>\n",
       "      <th>Total Serious Injuries</th>\n",
       "      <th>Total Minor Injuries</th>\n",
       "      <th>Total Uninjured</th>\n",
       "      <th>Weather Condition</th>\n",
       "      <th>Broad Phase of Flight</th>\n",
       "      <th>Report Status</th>\n",
       "      <th>Publication Date</th>\n",
       "      <th></th>\n",
       "    </tr>\n",
       "  </thead>\n",
       "  <tbody>\n",
       "    <tr>\n",
       "      <th>0</th>\n",
       "      <td>20200922X85131</td>\n",
       "      <td>Accident</td>\n",
       "      <td>CEN20LA412</td>\n",
       "      <td>09/20/2020</td>\n",
       "      <td>Montrose, MO</td>\n",
       "      <td>United States</td>\n",
       "      <td>38.250000</td>\n",
       "      <td>-93.890000</td>\n",
       "      <td></td>\n",
       "      <td>N/A</td>\n",
       "      <td>...</td>\n",
       "      <td></td>\n",
       "      <td></td>\n",
       "      <td></td>\n",
       "      <td></td>\n",
       "      <td>1</td>\n",
       "      <td>VMC</td>\n",
       "      <td>CRUISE</td>\n",
       "      <td>Preliminary</td>\n",
       "      <td>09/24/2020</td>\n",
       "      <td></td>\n",
       "    </tr>\n",
       "    <tr>\n",
       "      <th>1</th>\n",
       "      <td>20200920X32151</td>\n",
       "      <td>Accident</td>\n",
       "      <td>WPR20CA313</td>\n",
       "      <td>09/19/2020</td>\n",
       "      <td>Somerton, AZ</td>\n",
       "      <td>United States</td>\n",
       "      <td>32.557222</td>\n",
       "      <td>-114.684166</td>\n",
       "      <td>AZ25</td>\n",
       "      <td>Tri-Rotor Ag Services</td>\n",
       "      <td>...</td>\n",
       "      <td></td>\n",
       "      <td></td>\n",
       "      <td></td>\n",
       "      <td></td>\n",
       "      <td>1</td>\n",
       "      <td></td>\n",
       "      <td></td>\n",
       "      <td>Preliminary</td>\n",
       "      <td>09/23/2020</td>\n",
       "      <td></td>\n",
       "    </tr>\n",
       "    <tr>\n",
       "      <th>2</th>\n",
       "      <td>20200922X81021</td>\n",
       "      <td>Accident</td>\n",
       "      <td>CEN20WA408</td>\n",
       "      <td>09/19/2020</td>\n",
       "      <td>Moosburg, Germany</td>\n",
       "      <td>Germany</td>\n",
       "      <td></td>\n",
       "      <td></td>\n",
       "      <td></td>\n",
       "      <td></td>\n",
       "      <td>...</td>\n",
       "      <td></td>\n",
       "      <td>2</td>\n",
       "      <td></td>\n",
       "      <td></td>\n",
       "      <td></td>\n",
       "      <td></td>\n",
       "      <td>MANEUVERING</td>\n",
       "      <td>Foreign</td>\n",
       "      <td></td>\n",
       "      <td></td>\n",
       "    </tr>\n",
       "    <tr>\n",
       "      <th>3</th>\n",
       "      <td>20200921X81023</td>\n",
       "      <td>Accident</td>\n",
       "      <td>CEN20CA405</td>\n",
       "      <td>09/18/2020</td>\n",
       "      <td>Huntley, IL</td>\n",
       "      <td>United States</td>\n",
       "      <td>42.221111</td>\n",
       "      <td>-88.417778</td>\n",
       "      <td>6IL2</td>\n",
       "      <td>Phyllis Field</td>\n",
       "      <td>...</td>\n",
       "      <td></td>\n",
       "      <td></td>\n",
       "      <td></td>\n",
       "      <td></td>\n",
       "      <td>1</td>\n",
       "      <td>VMC</td>\n",
       "      <td></td>\n",
       "      <td>Preliminary</td>\n",
       "      <td>09/21/2020</td>\n",
       "      <td></td>\n",
       "    </tr>\n",
       "    <tr>\n",
       "      <th>4</th>\n",
       "      <td>20200921X15712</td>\n",
       "      <td>Accident</td>\n",
       "      <td>CEN20CA411</td>\n",
       "      <td>09/17/2020</td>\n",
       "      <td>Marksville, LA</td>\n",
       "      <td>United States</td>\n",
       "      <td>31.094722</td>\n",
       "      <td>-92.069167</td>\n",
       "      <td>MKV</td>\n",
       "      <td></td>\n",
       "      <td>...</td>\n",
       "      <td></td>\n",
       "      <td></td>\n",
       "      <td></td>\n",
       "      <td></td>\n",
       "      <td></td>\n",
       "      <td></td>\n",
       "      <td></td>\n",
       "      <td>Preliminary</td>\n",
       "      <td>09/23/2020</td>\n",
       "      <td></td>\n",
       "    </tr>\n",
       "  </tbody>\n",
       "</table>\n",
       "<p>5 rows × 32 columns</p>\n",
       "</div>"
      ],
      "text/plain": [
       "         Event Id   Investigation Type   Accident Number    Event Date   \\\n",
       "0  20200922X85131             Accident        CEN20LA412    09/20/2020    \n",
       "1  20200920X32151             Accident        WPR20CA313    09/19/2020    \n",
       "2  20200922X81021             Accident        CEN20WA408    09/19/2020    \n",
       "3  20200921X81023             Accident        CEN20CA405    09/18/2020    \n",
       "4  20200921X15712             Accident        CEN20CA411    09/17/2020    \n",
       "\n",
       "             Location          Country     Latitude      Longitude   \\\n",
       "0        Montrose, MO    United States    38.250000     -93.890000    \n",
       "1        Somerton, AZ    United States    32.557222    -114.684166    \n",
       "2   Moosburg, Germany          Germany                                \n",
       "3         Huntley, IL    United States    42.221111     -88.417778    \n",
       "4      Marksville, LA    United States    31.094722     -92.069167    \n",
       "\n",
       "   Airport Code             Airport Name   ...  Air Carrier   \\\n",
       "0                                    N/A   ...                 \n",
       "1          AZ25    Tri-Rotor Ag Services   ...                 \n",
       "2                                          ...                 \n",
       "3          6IL2            Phyllis Field   ...                 \n",
       "4           MKV                            ...                 \n",
       "\n",
       "   Total Fatal Injuries   Total Serious Injuries   Total Minor Injuries   \\\n",
       "0                                                                          \n",
       "1                                                                          \n",
       "2                     2                                                    \n",
       "3                                                                          \n",
       "4                                                                          \n",
       "\n",
       "   Total Uninjured   Weather Condition   Broad Phase of Flight   \\\n",
       "0                1                 VMC                  CRUISE    \n",
       "1                1                                                \n",
       "2                                                  MANEUVERING    \n",
       "3                1                 VMC                            \n",
       "4                                                                 \n",
       "\n",
       "   Report Status   Publication Date      \n",
       "0    Preliminary         09/24/2020      \n",
       "1    Preliminary         09/23/2020      \n",
       "2        Foreign                         \n",
       "3    Preliminary         09/21/2020      \n",
       "4    Preliminary         09/23/2020      \n",
       "\n",
       "[5 rows x 32 columns]"
      ]
     },
     "execution_count": 3,
     "metadata": {},
     "output_type": "execute_result"
    }
   ],
   "source": [
    "flightdata_df.head()"
   ]
  },
  {
   "cell_type": "code",
   "execution_count": 4,
   "id": "9bcc187f",
   "metadata": {},
   "outputs": [],
   "source": [
    "flight_df = flightdata_df[[' Broad Phase of Flight ',' Total Uninjured ',' Total Minor Injuries ',' Total Serious Injuries ',' Total Fatal Injuries ',' Air Carrier ',' Make ',' Model ',' Aircraft Category ',' Aircraft Damage ',' Injury Severity ',' Country ',' Event Date ',' Investigation Type ','Event Id ']]"
   ]
  },
  {
   "cell_type": "markdown",
   "id": "85a1de3c",
   "metadata": {},
   "source": [
    "Remove Leading and Trailing white spaces for all categories"
   ]
  },
  {
   "cell_type": "code",
   "execution_count": 5,
   "id": "c0acee4a",
   "metadata": {
    "scrolled": false
   },
   "outputs": [
    {
     "name": "stderr",
     "output_type": "stream",
     "text": [
      "/var/folders/qx/998n23w10ndgq3s189jlhgjh0000gn/T/ipykernel_929/1224206324.py:1: SettingWithCopyWarning: \n",
      "A value is trying to be set on a copy of a slice from a DataFrame.\n",
      "Try using .loc[row_indexer,col_indexer] = value instead\n",
      "\n",
      "See the caveats in the documentation: https://pandas.pydata.org/pandas-docs/stable/user_guide/indexing.html#returning-a-view-versus-a-copy\n",
      "  flight_df['Broad Phase of Flight'] = flight_df[' Broad Phase of Flight '].str.lstrip()\n",
      "/var/folders/qx/998n23w10ndgq3s189jlhgjh0000gn/T/ipykernel_929/1224206324.py:2: SettingWithCopyWarning: \n",
      "A value is trying to be set on a copy of a slice from a DataFrame.\n",
      "Try using .loc[row_indexer,col_indexer] = value instead\n",
      "\n",
      "See the caveats in the documentation: https://pandas.pydata.org/pandas-docs/stable/user_guide/indexing.html#returning-a-view-versus-a-copy\n",
      "  flight_df['Broad Phase of Flight'] = flight_df['Broad Phase of Flight'].str.rstrip()\n",
      "/var/folders/qx/998n23w10ndgq3s189jlhgjh0000gn/T/ipykernel_929/1224206324.py:5: SettingWithCopyWarning: \n",
      "A value is trying to be set on a copy of a slice from a DataFrame.\n",
      "Try using .loc[row_indexer,col_indexer] = value instead\n",
      "\n",
      "See the caveats in the documentation: https://pandas.pydata.org/pandas-docs/stable/user_guide/indexing.html#returning-a-view-versus-a-copy\n",
      "  flight_df['Total Uninjured'] = flight_df[' Total Uninjured '].str.lstrip()\n",
      "/var/folders/qx/998n23w10ndgq3s189jlhgjh0000gn/T/ipykernel_929/1224206324.py:6: SettingWithCopyWarning: \n",
      "A value is trying to be set on a copy of a slice from a DataFrame.\n",
      "Try using .loc[row_indexer,col_indexer] = value instead\n",
      "\n",
      "See the caveats in the documentation: https://pandas.pydata.org/pandas-docs/stable/user_guide/indexing.html#returning-a-view-versus-a-copy\n",
      "  flight_df['Total Uninjured'] = flight_df['Total Uninjured'].str.rstrip()\n",
      "/var/folders/qx/998n23w10ndgq3s189jlhgjh0000gn/T/ipykernel_929/1224206324.py:8: SettingWithCopyWarning: \n",
      "A value is trying to be set on a copy of a slice from a DataFrame.\n",
      "Try using .loc[row_indexer,col_indexer] = value instead\n",
      "\n",
      "See the caveats in the documentation: https://pandas.pydata.org/pandas-docs/stable/user_guide/indexing.html#returning-a-view-versus-a-copy\n",
      "  flight_df['Total Minor Injuries'] = flight_df[' Total Minor Injuries '].str.lstrip()\n",
      "/var/folders/qx/998n23w10ndgq3s189jlhgjh0000gn/T/ipykernel_929/1224206324.py:9: SettingWithCopyWarning: \n",
      "A value is trying to be set on a copy of a slice from a DataFrame.\n",
      "Try using .loc[row_indexer,col_indexer] = value instead\n",
      "\n",
      "See the caveats in the documentation: https://pandas.pydata.org/pandas-docs/stable/user_guide/indexing.html#returning-a-view-versus-a-copy\n",
      "  flight_df['Total Minor Injuries'] = flight_df['Total Minor Injuries'].str.rstrip()\n",
      "/var/folders/qx/998n23w10ndgq3s189jlhgjh0000gn/T/ipykernel_929/1224206324.py:11: SettingWithCopyWarning: \n",
      "A value is trying to be set on a copy of a slice from a DataFrame.\n",
      "Try using .loc[row_indexer,col_indexer] = value instead\n",
      "\n",
      "See the caveats in the documentation: https://pandas.pydata.org/pandas-docs/stable/user_guide/indexing.html#returning-a-view-versus-a-copy\n",
      "  flight_df['Total Serious Injuries'] = flight_df[' Total Serious Injuries '].str.lstrip()\n",
      "/var/folders/qx/998n23w10ndgq3s189jlhgjh0000gn/T/ipykernel_929/1224206324.py:12: SettingWithCopyWarning: \n",
      "A value is trying to be set on a copy of a slice from a DataFrame.\n",
      "Try using .loc[row_indexer,col_indexer] = value instead\n",
      "\n",
      "See the caveats in the documentation: https://pandas.pydata.org/pandas-docs/stable/user_guide/indexing.html#returning-a-view-versus-a-copy\n",
      "  flight_df['Total Serious Injuries'] = flight_df['Total Serious Injuries'].str.rstrip()\n",
      "/var/folders/qx/998n23w10ndgq3s189jlhgjh0000gn/T/ipykernel_929/1224206324.py:14: SettingWithCopyWarning: \n",
      "A value is trying to be set on a copy of a slice from a DataFrame.\n",
      "Try using .loc[row_indexer,col_indexer] = value instead\n",
      "\n",
      "See the caveats in the documentation: https://pandas.pydata.org/pandas-docs/stable/user_guide/indexing.html#returning-a-view-versus-a-copy\n",
      "  flight_df['Total Fatal Injuries'] = flight_df[' Total Fatal Injuries '].str.lstrip()\n",
      "/var/folders/qx/998n23w10ndgq3s189jlhgjh0000gn/T/ipykernel_929/1224206324.py:15: SettingWithCopyWarning: \n",
      "A value is trying to be set on a copy of a slice from a DataFrame.\n",
      "Try using .loc[row_indexer,col_indexer] = value instead\n",
      "\n",
      "See the caveats in the documentation: https://pandas.pydata.org/pandas-docs/stable/user_guide/indexing.html#returning-a-view-versus-a-copy\n",
      "  flight_df['Total Fatal Injuries'] = flight_df['Total Fatal Injuries'].str.rstrip()\n",
      "/var/folders/qx/998n23w10ndgq3s189jlhgjh0000gn/T/ipykernel_929/1224206324.py:17: SettingWithCopyWarning: \n",
      "A value is trying to be set on a copy of a slice from a DataFrame.\n",
      "Try using .loc[row_indexer,col_indexer] = value instead\n",
      "\n",
      "See the caveats in the documentation: https://pandas.pydata.org/pandas-docs/stable/user_guide/indexing.html#returning-a-view-versus-a-copy\n",
      "  flight_df['Air Carrier'] = flight_df[' Air Carrier '].str.lstrip()\n",
      "/var/folders/qx/998n23w10ndgq3s189jlhgjh0000gn/T/ipykernel_929/1224206324.py:18: SettingWithCopyWarning: \n",
      "A value is trying to be set on a copy of a slice from a DataFrame.\n",
      "Try using .loc[row_indexer,col_indexer] = value instead\n",
      "\n",
      "See the caveats in the documentation: https://pandas.pydata.org/pandas-docs/stable/user_guide/indexing.html#returning-a-view-versus-a-copy\n",
      "  flight_df['Air Carrier'] = flight_df['Air Carrier'].str.rstrip()\n",
      "/var/folders/qx/998n23w10ndgq3s189jlhgjh0000gn/T/ipykernel_929/1224206324.py:20: SettingWithCopyWarning: \n",
      "A value is trying to be set on a copy of a slice from a DataFrame.\n",
      "Try using .loc[row_indexer,col_indexer] = value instead\n",
      "\n",
      "See the caveats in the documentation: https://pandas.pydata.org/pandas-docs/stable/user_guide/indexing.html#returning-a-view-versus-a-copy\n",
      "  flight_df['Make'] = flight_df[' Make '].str.lstrip()\n",
      "/var/folders/qx/998n23w10ndgq3s189jlhgjh0000gn/T/ipykernel_929/1224206324.py:21: SettingWithCopyWarning: \n",
      "A value is trying to be set on a copy of a slice from a DataFrame.\n",
      "Try using .loc[row_indexer,col_indexer] = value instead\n",
      "\n",
      "See the caveats in the documentation: https://pandas.pydata.org/pandas-docs/stable/user_guide/indexing.html#returning-a-view-versus-a-copy\n",
      "  flight_df['Make'] = flight_df['Make'].str.rstrip()\n",
      "/var/folders/qx/998n23w10ndgq3s189jlhgjh0000gn/T/ipykernel_929/1224206324.py:23: SettingWithCopyWarning: \n",
      "A value is trying to be set on a copy of a slice from a DataFrame.\n",
      "Try using .loc[row_indexer,col_indexer] = value instead\n",
      "\n",
      "See the caveats in the documentation: https://pandas.pydata.org/pandas-docs/stable/user_guide/indexing.html#returning-a-view-versus-a-copy\n",
      "  flight_df['Model'] = flight_df[' Model '].str.lstrip()\n",
      "/var/folders/qx/998n23w10ndgq3s189jlhgjh0000gn/T/ipykernel_929/1224206324.py:24: SettingWithCopyWarning: \n",
      "A value is trying to be set on a copy of a slice from a DataFrame.\n",
      "Try using .loc[row_indexer,col_indexer] = value instead\n",
      "\n",
      "See the caveats in the documentation: https://pandas.pydata.org/pandas-docs/stable/user_guide/indexing.html#returning-a-view-versus-a-copy\n",
      "  flight_df['Model'] = flight_df['Model'].str.rstrip()\n",
      "/var/folders/qx/998n23w10ndgq3s189jlhgjh0000gn/T/ipykernel_929/1224206324.py:26: SettingWithCopyWarning: \n",
      "A value is trying to be set on a copy of a slice from a DataFrame.\n",
      "Try using .loc[row_indexer,col_indexer] = value instead\n",
      "\n",
      "See the caveats in the documentation: https://pandas.pydata.org/pandas-docs/stable/user_guide/indexing.html#returning-a-view-versus-a-copy\n",
      "  flight_df['Aircraft Category'] = flight_df[' Aircraft Category '].str.lstrip()\n",
      "/var/folders/qx/998n23w10ndgq3s189jlhgjh0000gn/T/ipykernel_929/1224206324.py:27: SettingWithCopyWarning: \n",
      "A value is trying to be set on a copy of a slice from a DataFrame.\n",
      "Try using .loc[row_indexer,col_indexer] = value instead\n",
      "\n",
      "See the caveats in the documentation: https://pandas.pydata.org/pandas-docs/stable/user_guide/indexing.html#returning-a-view-versus-a-copy\n",
      "  flight_df['Aircraft Category'] = flight_df['Aircraft Category'].str.rstrip()\n",
      "/var/folders/qx/998n23w10ndgq3s189jlhgjh0000gn/T/ipykernel_929/1224206324.py:29: SettingWithCopyWarning: \n",
      "A value is trying to be set on a copy of a slice from a DataFrame.\n",
      "Try using .loc[row_indexer,col_indexer] = value instead\n",
      "\n",
      "See the caveats in the documentation: https://pandas.pydata.org/pandas-docs/stable/user_guide/indexing.html#returning-a-view-versus-a-copy\n",
      "  flight_df['Aircraft Damage'] = flight_df[' Aircraft Damage '].str.lstrip()\n",
      "/var/folders/qx/998n23w10ndgq3s189jlhgjh0000gn/T/ipykernel_929/1224206324.py:30: SettingWithCopyWarning: \n",
      "A value is trying to be set on a copy of a slice from a DataFrame.\n",
      "Try using .loc[row_indexer,col_indexer] = value instead\n",
      "\n",
      "See the caveats in the documentation: https://pandas.pydata.org/pandas-docs/stable/user_guide/indexing.html#returning-a-view-versus-a-copy\n",
      "  flight_df['Aircraft Damage'] = flight_df['Aircraft Damage'].str.rstrip()\n",
      "/var/folders/qx/998n23w10ndgq3s189jlhgjh0000gn/T/ipykernel_929/1224206324.py:32: SettingWithCopyWarning: \n",
      "A value is trying to be set on a copy of a slice from a DataFrame.\n",
      "Try using .loc[row_indexer,col_indexer] = value instead\n",
      "\n",
      "See the caveats in the documentation: https://pandas.pydata.org/pandas-docs/stable/user_guide/indexing.html#returning-a-view-versus-a-copy\n",
      "  flight_df['Injury Severity'] = flight_df[' Injury Severity '].str.lstrip()\n"
     ]
    },
    {
     "name": "stderr",
     "output_type": "stream",
     "text": [
      "/var/folders/qx/998n23w10ndgq3s189jlhgjh0000gn/T/ipykernel_929/1224206324.py:33: SettingWithCopyWarning: \n",
      "A value is trying to be set on a copy of a slice from a DataFrame.\n",
      "Try using .loc[row_indexer,col_indexer] = value instead\n",
      "\n",
      "See the caveats in the documentation: https://pandas.pydata.org/pandas-docs/stable/user_guide/indexing.html#returning-a-view-versus-a-copy\n",
      "  flight_df['Injury Severity'] = flight_df['Injury Severity'].str.rstrip()\n",
      "/var/folders/qx/998n23w10ndgq3s189jlhgjh0000gn/T/ipykernel_929/1224206324.py:35: SettingWithCopyWarning: \n",
      "A value is trying to be set on a copy of a slice from a DataFrame.\n",
      "Try using .loc[row_indexer,col_indexer] = value instead\n",
      "\n",
      "See the caveats in the documentation: https://pandas.pydata.org/pandas-docs/stable/user_guide/indexing.html#returning-a-view-versus-a-copy\n",
      "  flight_df['Country'] = flight_df[' Country '].str.lstrip()\n",
      "/var/folders/qx/998n23w10ndgq3s189jlhgjh0000gn/T/ipykernel_929/1224206324.py:36: SettingWithCopyWarning: \n",
      "A value is trying to be set on a copy of a slice from a DataFrame.\n",
      "Try using .loc[row_indexer,col_indexer] = value instead\n",
      "\n",
      "See the caveats in the documentation: https://pandas.pydata.org/pandas-docs/stable/user_guide/indexing.html#returning-a-view-versus-a-copy\n",
      "  flight_df['Country'] = flight_df['Country'].str.rstrip()\n",
      "/var/folders/qx/998n23w10ndgq3s189jlhgjh0000gn/T/ipykernel_929/1224206324.py:38: SettingWithCopyWarning: \n",
      "A value is trying to be set on a copy of a slice from a DataFrame.\n",
      "Try using .loc[row_indexer,col_indexer] = value instead\n",
      "\n",
      "See the caveats in the documentation: https://pandas.pydata.org/pandas-docs/stable/user_guide/indexing.html#returning-a-view-versus-a-copy\n",
      "  flight_df['Event Date'] = flight_df[' Event Date '].str.lstrip()\n",
      "/var/folders/qx/998n23w10ndgq3s189jlhgjh0000gn/T/ipykernel_929/1224206324.py:39: SettingWithCopyWarning: \n",
      "A value is trying to be set on a copy of a slice from a DataFrame.\n",
      "Try using .loc[row_indexer,col_indexer] = value instead\n",
      "\n",
      "See the caveats in the documentation: https://pandas.pydata.org/pandas-docs/stable/user_guide/indexing.html#returning-a-view-versus-a-copy\n",
      "  flight_df['Event Date'] = flight_df['Event Date'].str.rstrip()\n",
      "/var/folders/qx/998n23w10ndgq3s189jlhgjh0000gn/T/ipykernel_929/1224206324.py:41: SettingWithCopyWarning: \n",
      "A value is trying to be set on a copy of a slice from a DataFrame.\n",
      "Try using .loc[row_indexer,col_indexer] = value instead\n",
      "\n",
      "See the caveats in the documentation: https://pandas.pydata.org/pandas-docs/stable/user_guide/indexing.html#returning-a-view-versus-a-copy\n",
      "  flight_df['Investigation Type'] = flight_df[' Investigation Type '].str.lstrip()\n",
      "/var/folders/qx/998n23w10ndgq3s189jlhgjh0000gn/T/ipykernel_929/1224206324.py:42: SettingWithCopyWarning: \n",
      "A value is trying to be set on a copy of a slice from a DataFrame.\n",
      "Try using .loc[row_indexer,col_indexer] = value instead\n",
      "\n",
      "See the caveats in the documentation: https://pandas.pydata.org/pandas-docs/stable/user_guide/indexing.html#returning-a-view-versus-a-copy\n",
      "  flight_df['Investigation Type'] = flight_df['Investigation Type'].str.rstrip()\n",
      "/var/folders/qx/998n23w10ndgq3s189jlhgjh0000gn/T/ipykernel_929/1224206324.py:44: SettingWithCopyWarning: \n",
      "A value is trying to be set on a copy of a slice from a DataFrame.\n",
      "Try using .loc[row_indexer,col_indexer] = value instead\n",
      "\n",
      "See the caveats in the documentation: https://pandas.pydata.org/pandas-docs/stable/user_guide/indexing.html#returning-a-view-versus-a-copy\n",
      "  flight_df['Event Id'] = flight_df['Event Id '].str.lstrip()\n",
      "/var/folders/qx/998n23w10ndgq3s189jlhgjh0000gn/T/ipykernel_929/1224206324.py:45: SettingWithCopyWarning: \n",
      "A value is trying to be set on a copy of a slice from a DataFrame.\n",
      "Try using .loc[row_indexer,col_indexer] = value instead\n",
      "\n",
      "See the caveats in the documentation: https://pandas.pydata.org/pandas-docs/stable/user_guide/indexing.html#returning-a-view-versus-a-copy\n",
      "  flight_df['Event Id'] = flight_df['Event Id'].str.rstrip()\n"
     ]
    }
   ],
   "source": [
    "flight_df['Broad Phase of Flight'] = flight_df[' Broad Phase of Flight '].str.lstrip()\n",
    "flight_df['Broad Phase of Flight'] = flight_df['Broad Phase of Flight'].str.rstrip()\n",
    "\n",
    "\n",
    "flight_df['Total Uninjured'] = flight_df[' Total Uninjured '].str.lstrip()\n",
    "flight_df['Total Uninjured'] = flight_df['Total Uninjured'].str.rstrip()\n",
    "\n",
    "flight_df['Total Minor Injuries'] = flight_df[' Total Minor Injuries '].str.lstrip()\n",
    "flight_df['Total Minor Injuries'] = flight_df['Total Minor Injuries'].str.rstrip()\n",
    "\n",
    "flight_df['Total Serious Injuries'] = flight_df[' Total Serious Injuries '].str.lstrip()\n",
    "flight_df['Total Serious Injuries'] = flight_df['Total Serious Injuries'].str.rstrip()\n",
    "\n",
    "flight_df['Total Fatal Injuries'] = flight_df[' Total Fatal Injuries '].str.lstrip()\n",
    "flight_df['Total Fatal Injuries'] = flight_df['Total Fatal Injuries'].str.rstrip()\n",
    "\n",
    "flight_df['Air Carrier'] = flight_df[' Air Carrier '].str.lstrip()\n",
    "flight_df['Air Carrier'] = flight_df['Air Carrier'].str.rstrip()\n",
    "\n",
    "flight_df['Make'] = flight_df[' Make '].str.lstrip()\n",
    "flight_df['Make'] = flight_df['Make'].str.rstrip()\n",
    "\n",
    "flight_df['Model'] = flight_df[' Model '].str.lstrip()\n",
    "flight_df['Model'] = flight_df['Model'].str.rstrip()\n",
    "\n",
    "flight_df['Aircraft Category'] = flight_df[' Aircraft Category '].str.lstrip()\n",
    "flight_df['Aircraft Category'] = flight_df['Aircraft Category'].str.rstrip()\n",
    "\n",
    "flight_df['Aircraft Damage'] = flight_df[' Aircraft Damage '].str.lstrip()\n",
    "flight_df['Aircraft Damage'] = flight_df['Aircraft Damage'].str.rstrip()\n",
    "\n",
    "flight_df['Injury Severity'] = flight_df[' Injury Severity '].str.lstrip()\n",
    "flight_df['Injury Severity'] = flight_df['Injury Severity'].str.rstrip()\n",
    "\n",
    "flight_df['Country'] = flight_df[' Country '].str.lstrip()\n",
    "flight_df['Country'] = flight_df['Country'].str.rstrip()\n",
    "\n",
    "flight_df['Event Date'] = flight_df[' Event Date '].str.lstrip()\n",
    "flight_df['Event Date'] = flight_df['Event Date'].str.rstrip()\n",
    "\n",
    "flight_df['Investigation Type'] = flight_df[' Investigation Type '].str.lstrip()\n",
    "flight_df['Investigation Type'] = flight_df['Investigation Type'].str.rstrip()\n",
    "\n",
    "flight_df['Event Id'] = flight_df['Event Id '].str.lstrip()\n",
    "flight_df['Event Id'] = flight_df['Event Id'].str.rstrip()\n",
    "\n"
   ]
  },
  {
   "cell_type": "code",
   "execution_count": 6,
   "id": "8a3a6e6f",
   "metadata": {},
   "outputs": [],
   "source": [
    "flight_df = flight_df.drop(columns=[' Broad Phase of Flight ', ' Total Uninjured ', ' Total Minor Injuries ', \n",
    "                        ' Total Serious Injuries ', ' Total Fatal Injuries ',' Air Carrier ',\n",
    "                        ' Make ', ' Model ',' Aircraft Category ', ' Aircraft Damage ', ' Injury Severity ',\n",
    "                       ' Country ', ' Event Date ', ' Investigation Type ', 'Event Id '])"
   ]
  },
  {
   "cell_type": "code",
   "execution_count": 7,
   "id": "ac4e6b26",
   "metadata": {},
   "outputs": [
    {
     "name": "stdout",
     "output_type": "stream",
     "text": [
      "<class 'pandas.core.frame.DataFrame'>\n",
      "RangeIndex: 85627 entries, 0 to 85626\n",
      "Data columns (total 15 columns):\n",
      " #   Column                  Non-Null Count  Dtype \n",
      "---  ------                  --------------  ----- \n",
      " 0   Broad Phase of Flight   85627 non-null  object\n",
      " 1   Total Uninjured         85627 non-null  object\n",
      " 2   Total Minor Injuries    85627 non-null  object\n",
      " 3   Total Serious Injuries  85627 non-null  object\n",
      " 4   Total Fatal Injuries    85627 non-null  object\n",
      " 5   Air Carrier             85627 non-null  object\n",
      " 6   Make                    85627 non-null  object\n",
      " 7   Model                   85627 non-null  object\n",
      " 8   Aircraft Category       85627 non-null  object\n",
      " 9   Aircraft Damage         85627 non-null  object\n",
      " 10  Injury Severity         85627 non-null  object\n",
      " 11  Country                 85627 non-null  object\n",
      " 12  Event Date              85627 non-null  object\n",
      " 13  Investigation Type      85627 non-null  object\n",
      " 14  Event Id                85627 non-null  object\n",
      "dtypes: object(15)\n",
      "memory usage: 9.8+ MB\n"
     ]
    }
   ],
   "source": [
    "flight_df.info()"
   ]
  },
  {
   "cell_type": "markdown",
   "id": "c3aa3bcf",
   "metadata": {},
   "source": [
    "- Total Uninjured --> int \n",
    "- Total Minor Injuries --> int\n",
    "- Total Serious Injuries --> int\n",
    "- Total Fatal Injuries --> int\n",
    "- Event Date --> datetime"
   ]
  },
  {
   "cell_type": "code",
   "execution_count": 8,
   "id": "93e24845",
   "metadata": {},
   "outputs": [],
   "source": [
    "flight_df['Total Uninjured'] = pd.to_numeric(flight_df['Total Uninjured'], errors='coerce')\n",
    "flight_df['Total Minor Injuries'] = pd.to_numeric(flight_df['Total Minor Injuries'], errors='coerce')\n",
    "flight_df['Total Serious Injuries'] = pd.to_numeric(flight_df['Total Serious Injuries'], errors='coerce')\n",
    "flight_df['Total Fatal Injuries'] = pd.to_numeric(flight_df['Total Fatal Injuries'], errors='coerce')\n"
   ]
  },
  {
   "cell_type": "code",
   "execution_count": 9,
   "id": "b17106f3",
   "metadata": {},
   "outputs": [
    {
     "data": {
      "text/plain": [
       "1.0      24215\n",
       "0.0      19114\n",
       "2.0      15374\n",
       "NaN      15170\n",
       "3.0       4219\n",
       "         ...  \n",
       "362.0        1\n",
       "322.0        1\n",
       "207.0        1\n",
       "414.0        1\n",
       "393.0        1\n",
       "Name: Total Uninjured, Length: 378, dtype: int64"
      ]
     },
     "execution_count": 9,
     "metadata": {},
     "output_type": "execute_result"
    }
   ],
   "source": [
    "flight_df['Total Uninjured'].value_counts(dropna=False)"
   ]
  },
  {
   "cell_type": "code",
   "execution_count": 10,
   "id": "201896d3",
   "metadata": {},
   "outputs": [
    {
     "data": {
      "text/plain": [
       "0.0      40028\n",
       "NaN      29840\n",
       "1.0      10158\n",
       "2.0       3839\n",
       "3.0        845\n",
       "         ...  \n",
       "53.0         1\n",
       "67.0         1\n",
       "137.0        1\n",
       "161.0        1\n",
       "29.0         1\n",
       "Name: Total Minor Injuries, Length: 65, dtype: int64"
      ]
     },
     "execution_count": 10,
     "metadata": {},
     "output_type": "execute_result"
    }
   ],
   "source": [
    "flight_df['Total Minor Injuries'].value_counts(dropna=False)"
   ]
  },
  {
   "cell_type": "code",
   "execution_count": 11,
   "id": "b459bbca",
   "metadata": {},
   "outputs": [
    {
     "data": {
      "text/plain": [
       "0.0      42631\n",
       "NaN      31077\n",
       "1.0       8629\n",
       "2.0       2346\n",
       "3.0        530\n",
       "4.0        215\n",
       "5.0         71\n",
       "6.0         29\n",
       "7.0         23\n",
       "8.0          9\n",
       "9.0          9\n",
       "10.0         7\n",
       "13.0         6\n",
       "26.0         4\n",
       "12.0         3\n",
       "50.0         3\n",
       "17.0         3\n",
       "14.0         2\n",
       "28.0         2\n",
       "59.0         2\n",
       "18.0         2\n",
       "15.0         2\n",
       "11.0         2\n",
       "16.0         2\n",
       "22.0         1\n",
       "81.0         1\n",
       "106.0        1\n",
       "60.0         1\n",
       "21.0         1\n",
       "44.0         1\n",
       "45.0         1\n",
       "19.0         1\n",
       "39.0         1\n",
       "111.0        1\n",
       "43.0         1\n",
       "25.0         1\n",
       "66.0         1\n",
       "23.0         1\n",
       "55.0         1\n",
       "27.0         1\n",
       "20.0         1\n",
       "47.0         1\n",
       "Name: Total Serious Injuries, dtype: int64"
      ]
     },
     "execution_count": 11,
     "metadata": {},
     "output_type": "execute_result"
    }
   ],
   "source": [
    "flight_df['Total Serious Injuries'].value_counts(dropna=False)"
   ]
  },
  {
   "cell_type": "code",
   "execution_count": 12,
   "id": "49e5b35a",
   "metadata": {},
   "outputs": [
    {
     "data": {
      "text/plain": [
       "0.0      40061\n",
       "NaN      28330\n",
       "1.0       8530\n",
       "2.0       5004\n",
       "3.0       1561\n",
       "         ...  \n",
       "96.0         1\n",
       "114.0        1\n",
       "199.0        1\n",
       "57.0         1\n",
       "78.0         1\n",
       "Name: Total Fatal Injuries, Length: 128, dtype: int64"
      ]
     },
     "execution_count": 12,
     "metadata": {},
     "output_type": "execute_result"
    }
   ],
   "source": [
    "flight_df['Total Fatal Injuries'].value_counts(dropna=False)"
   ]
  },
  {
   "cell_type": "code",
   "execution_count": 13,
   "id": "a77484fb",
   "metadata": {},
   "outputs": [
    {
     "data": {
      "text/plain": [
       "Broad Phase of Flight         0\n",
       "Total Uninjured           15170\n",
       "Total Minor Injuries      29840\n",
       "Total Serious Injuries    31077\n",
       "Total Fatal Injuries      28330\n",
       "Air Carrier                   0\n",
       "Make                          0\n",
       "Model                         0\n",
       "Aircraft Category             0\n",
       "Aircraft Damage               0\n",
       "Injury Severity               0\n",
       "Country                       0\n",
       "Event Date                    0\n",
       "Investigation Type            0\n",
       "Event Id                      0\n",
       "dtype: int64"
      ]
     },
     "execution_count": 13,
     "metadata": {},
     "output_type": "execute_result"
    }
   ],
   "source": [
    "flight_df.isnull().sum()"
   ]
  },
  {
   "cell_type": "markdown",
   "id": "39cf9e4b",
   "metadata": {},
   "source": [
    "For my additional data preparation step, I've chosen to convert all NaN values in the data set to a number that doesn't otherwise appear (1000). There was no discernable pattern that I found that would inuitively lead me to impute NaNs to any other value. Likewise, there was too much value to the remaining data in each NaN-valued row to perform deletion. The 1000s will be ignored in any subequent steps."
   ]
  },
  {
   "cell_type": "markdown",
   "id": "35ec6566",
   "metadata": {},
   "source": [
    "Here I will convert to proper data types and fill NaNs."
   ]
  },
  {
   "cell_type": "code",
   "execution_count": 14,
   "id": "d82cf452",
   "metadata": {},
   "outputs": [
    {
     "data": {
      "text/html": [
       "<div>\n",
       "<style scoped>\n",
       "    .dataframe tbody tr th:only-of-type {\n",
       "        vertical-align: middle;\n",
       "    }\n",
       "\n",
       "    .dataframe tbody tr th {\n",
       "        vertical-align: top;\n",
       "    }\n",
       "\n",
       "    .dataframe thead th {\n",
       "        text-align: right;\n",
       "    }\n",
       "</style>\n",
       "<table border=\"1\" class=\"dataframe\">\n",
       "  <thead>\n",
       "    <tr style=\"text-align: right;\">\n",
       "      <th></th>\n",
       "      <th>Broad Phase of Flight</th>\n",
       "      <th>Total Uninjured</th>\n",
       "      <th>Total Minor Injuries</th>\n",
       "      <th>Total Serious Injuries</th>\n",
       "      <th>Total Fatal Injuries</th>\n",
       "      <th>Air Carrier</th>\n",
       "      <th>Make</th>\n",
       "      <th>Model</th>\n",
       "      <th>Aircraft Category</th>\n",
       "      <th>Aircraft Damage</th>\n",
       "      <th>Injury Severity</th>\n",
       "      <th>Country</th>\n",
       "      <th>Event Date</th>\n",
       "      <th>Investigation Type</th>\n",
       "      <th>Event Id</th>\n",
       "    </tr>\n",
       "  </thead>\n",
       "  <tbody>\n",
       "    <tr>\n",
       "      <th>0</th>\n",
       "      <td>CRUISE</td>\n",
       "      <td>1</td>\n",
       "      <td>1000</td>\n",
       "      <td>1000</td>\n",
       "      <td>1000</td>\n",
       "      <td></td>\n",
       "      <td>ZENITH</td>\n",
       "      <td>CH 750</td>\n",
       "      <td>Airplane</td>\n",
       "      <td>Substantial</td>\n",
       "      <td>Non-Fatal</td>\n",
       "      <td>United States</td>\n",
       "      <td>2020-09-20</td>\n",
       "      <td>Accident</td>\n",
       "      <td>20200922X85131</td>\n",
       "    </tr>\n",
       "    <tr>\n",
       "      <th>1</th>\n",
       "      <td></td>\n",
       "      <td>1</td>\n",
       "      <td>1000</td>\n",
       "      <td>1000</td>\n",
       "      <td>1000</td>\n",
       "      <td></td>\n",
       "      <td>Air Tractor</td>\n",
       "      <td>AT 402</td>\n",
       "      <td>Airplane</td>\n",
       "      <td>Destroyed</td>\n",
       "      <td>Non-Fatal</td>\n",
       "      <td>United States</td>\n",
       "      <td>2020-09-19</td>\n",
       "      <td>Accident</td>\n",
       "      <td>20200920X32151</td>\n",
       "    </tr>\n",
       "    <tr>\n",
       "      <th>2</th>\n",
       "      <td>MANEUVERING</td>\n",
       "      <td>1000</td>\n",
       "      <td>1000</td>\n",
       "      <td>1000</td>\n",
       "      <td>2</td>\n",
       "      <td></td>\n",
       "      <td>RAVEN AIRCRAFT CORPPRATION</td>\n",
       "      <td>RAVEN</td>\n",
       "      <td>Airplane</td>\n",
       "      <td>Destroyed</td>\n",
       "      <td>Fatal(2)</td>\n",
       "      <td>Germany</td>\n",
       "      <td>2020-09-19</td>\n",
       "      <td>Accident</td>\n",
       "      <td>20200922X81021</td>\n",
       "    </tr>\n",
       "    <tr>\n",
       "      <th>3</th>\n",
       "      <td></td>\n",
       "      <td>1</td>\n",
       "      <td>1000</td>\n",
       "      <td>1000</td>\n",
       "      <td>1000</td>\n",
       "      <td></td>\n",
       "      <td>Piper</td>\n",
       "      <td>PA28</td>\n",
       "      <td>Airplane</td>\n",
       "      <td>Substantial</td>\n",
       "      <td>Non-Fatal</td>\n",
       "      <td>United States</td>\n",
       "      <td>2020-09-18</td>\n",
       "      <td>Accident</td>\n",
       "      <td>20200921X81023</td>\n",
       "    </tr>\n",
       "    <tr>\n",
       "      <th>4</th>\n",
       "      <td></td>\n",
       "      <td>1000</td>\n",
       "      <td>1000</td>\n",
       "      <td>1000</td>\n",
       "      <td>1000</td>\n",
       "      <td></td>\n",
       "      <td>Cessna</td>\n",
       "      <td>R182</td>\n",
       "      <td>Airplane</td>\n",
       "      <td>Substantial</td>\n",
       "      <td>Unavailable</td>\n",
       "      <td>United States</td>\n",
       "      <td>2020-09-17</td>\n",
       "      <td>Accident</td>\n",
       "      <td>20200921X15712</td>\n",
       "    </tr>\n",
       "  </tbody>\n",
       "</table>\n",
       "</div>"
      ],
      "text/plain": [
       "  Broad Phase of Flight  Total Uninjured  Total Minor Injuries  \\\n",
       "0                CRUISE                1                  1000   \n",
       "1                                      1                  1000   \n",
       "2           MANEUVERING             1000                  1000   \n",
       "3                                      1                  1000   \n",
       "4                                   1000                  1000   \n",
       "\n",
       "   Total Serious Injuries  Total Fatal Injuries Air Carrier  \\\n",
       "0                    1000                  1000               \n",
       "1                    1000                  1000               \n",
       "2                    1000                     2               \n",
       "3                    1000                  1000               \n",
       "4                    1000                  1000               \n",
       "\n",
       "                         Make   Model Aircraft Category Aircraft Damage  \\\n",
       "0                      ZENITH  CH 750          Airplane     Substantial   \n",
       "1                 Air Tractor  AT 402          Airplane       Destroyed   \n",
       "2  RAVEN AIRCRAFT CORPPRATION   RAVEN          Airplane       Destroyed   \n",
       "3                       Piper    PA28          Airplane     Substantial   \n",
       "4                      Cessna    R182          Airplane     Substantial   \n",
       "\n",
       "  Injury Severity        Country Event Date Investigation Type        Event Id  \n",
       "0       Non-Fatal  United States 2020-09-20           Accident  20200922X85131  \n",
       "1       Non-Fatal  United States 2020-09-19           Accident  20200920X32151  \n",
       "2        Fatal(2)        Germany 2020-09-19           Accident  20200922X81021  \n",
       "3       Non-Fatal  United States 2020-09-18           Accident  20200921X81023  \n",
       "4     Unavailable  United States 2020-09-17           Accident  20200921X15712  "
      ]
     },
     "execution_count": 14,
     "metadata": {},
     "output_type": "execute_result"
    }
   ],
   "source": [
    "flight_df['Total Uninjured'] = flight_df['Total Uninjured'].fillna(1000).astype(int)\n",
    "flight_df['Total Minor Injuries'] = flight_df['Total Minor Injuries'].fillna(1000).astype(int)\n",
    "flight_df['Total Serious Injuries'] = flight_df['Total Serious Injuries'].fillna(1000).astype(int)\n",
    "flight_df['Total Fatal Injuries'] = flight_df['Total Fatal Injuries'].fillna(1000).astype(int)\n",
    "flight_df['Event Date'] =  pd.to_datetime(flight_df['Event Date'], infer_datetime_format=True)\n",
    "flight_df.head()"
   ]
  },
  {
   "cell_type": "markdown",
   "id": "c37849c6",
   "metadata": {},
   "source": [
    "### Question 2\n",
    "(10 pts) Calculate the number of events that transpired each year and display the results using a line chart. Which year has the highest number of events?"
   ]
  },
  {
   "cell_type": "markdown",
   "id": "3cfb1ee6",
   "metadata": {},
   "source": [
    "Begin by breaking up Event Date Column into separate day, month, and year columns"
   ]
  },
  {
   "cell_type": "code",
   "execution_count": 15,
   "id": "7e6ef9f9",
   "metadata": {},
   "outputs": [
    {
     "name": "stdout",
     "output_type": "stream",
     "text": [
      "<class 'pandas.core.frame.DataFrame'>\n",
      "RangeIndex: 85627 entries, 0 to 85626\n",
      "Data columns (total 17 columns):\n",
      " #   Column                  Non-Null Count  Dtype \n",
      "---  ------                  --------------  ----- \n",
      " 0   Broad Phase of Flight   85627 non-null  object\n",
      " 1   Total Uninjured         85627 non-null  int64 \n",
      " 2   Total Minor Injuries    85627 non-null  int64 \n",
      " 3   Total Serious Injuries  85627 non-null  int64 \n",
      " 4   Total Fatal Injuries    85627 non-null  int64 \n",
      " 5   Air Carrier             85627 non-null  object\n",
      " 6   Make                    85627 non-null  object\n",
      " 7   Model                   85627 non-null  object\n",
      " 8   Aircraft Category       85627 non-null  object\n",
      " 9   Aircraft Damage         85627 non-null  object\n",
      " 10  Injury Severity         85627 non-null  object\n",
      " 11  Country                 85627 non-null  object\n",
      " 12  Investigation Type      85627 non-null  object\n",
      " 13  Event Id                85627 non-null  object\n",
      " 14  Year                    85627 non-null  int64 \n",
      " 15  Month                   85627 non-null  int64 \n",
      " 16  Day                     85627 non-null  int64 \n",
      "dtypes: int64(7), object(10)\n",
      "memory usage: 11.1+ MB\n"
     ]
    }
   ],
   "source": [
    "flight_df['Year'] = flight_df['Event Date'].dt.year\n",
    "flight_df['Month'] = flight_df['Event Date'].dt.month\n",
    "flight_df['Day'] = flight_df['Event Date'].dt.day\n",
    "\n",
    "flight_df = flight_df.drop(columns=['Event Date'])\n",
    "flight_df.info()"
   ]
  },
  {
   "cell_type": "code",
   "execution_count": 16,
   "id": "34501edd",
   "metadata": {},
   "outputs": [
    {
     "data": {
      "text/plain": [
       "Text(0.5, 1.0, 'Aircraft Events per Year')"
      ]
     },
     "execution_count": 16,
     "metadata": {},
     "output_type": "execute_result"
    },
    {
     "data": {
      "image/png": "[encoded data removed]",
      "text/plain": [
       "<Figure size 640x480 with 1 Axes>"
      ]
     },
     "metadata": {},
     "output_type": "display_data"
    }
   ],
   "source": [
    "annual_crashes = flight_df.groupby(['Year'], as_index=False).count()\n",
    "annual_crashes.plot(x='Year', y='Event Id')\n",
    "plt.xlim(1980,2022)\n",
    "\n",
    "plt.ylabel('Number of Crashes')\n",
    "plt.title('Aircraft Events per Year')"
   ]
  },
  {
   "cell_type": "markdown",
   "id": "ae3323a8",
   "metadata": {},
   "source": [
    "##### Question: Which year has the highest number of events?\n",
    "1982 had the highest number of events."
   ]
  },
  {
   "cell_type": "markdown",
   "id": "e1e768e3",
   "metadata": {},
   "source": [
    "### Question 3\n",
    "(10 pts) Create a suitable visualization that shows the proportion of Accidents and Incidents in the dataset. Hint: use the Investigation Type. Explain the results."
   ]
  },
  {
   "cell_type": "code",
   "execution_count": 17,
   "id": "6318bc03",
   "metadata": {},
   "outputs": [
    {
     "data": {
      "text/html": [
       "<div>\n",
       "<style scoped>\n",
       "    .dataframe tbody tr th:only-of-type {\n",
       "        vertical-align: middle;\n",
       "    }\n",
       "\n",
       "    .dataframe tbody tr th {\n",
       "        vertical-align: top;\n",
       "    }\n",
       "\n",
       "    .dataframe thead th {\n",
       "        text-align: right;\n",
       "    }\n",
       "</style>\n",
       "<table border=\"1\" class=\"dataframe\">\n",
       "  <thead>\n",
       "    <tr style=\"text-align: right;\">\n",
       "      <th></th>\n",
       "      <th>Investigation Type</th>\n",
       "      <th>Broad Phase of Flight</th>\n",
       "      <th>Total Uninjured</th>\n",
       "      <th>Total Minor Injuries</th>\n",
       "      <th>Total Serious Injuries</th>\n",
       "      <th>Total Fatal Injuries</th>\n",
       "      <th>Air Carrier</th>\n",
       "      <th>Make</th>\n",
       "      <th>Model</th>\n",
       "      <th>Aircraft Category</th>\n",
       "      <th>Aircraft Damage</th>\n",
       "      <th>Injury Severity</th>\n",
       "      <th>Country</th>\n",
       "      <th>Event Id</th>\n",
       "      <th>Year</th>\n",
       "      <th>Month</th>\n",
       "      <th>Day</th>\n",
       "    </tr>\n",
       "  </thead>\n",
       "  <tbody>\n",
       "    <tr>\n",
       "      <th>1</th>\n",
       "      <td>Accident</td>\n",
       "      <td>81938</td>\n",
       "      <td>81938</td>\n",
       "      <td>81938</td>\n",
       "      <td>81938</td>\n",
       "      <td>81938</td>\n",
       "      <td>81938</td>\n",
       "      <td>81938</td>\n",
       "      <td>81938</td>\n",
       "      <td>81938</td>\n",
       "      <td>81938</td>\n",
       "      <td>81938</td>\n",
       "      <td>81938</td>\n",
       "      <td>81938</td>\n",
       "      <td>81938</td>\n",
       "      <td>81938</td>\n",
       "      <td>81938</td>\n",
       "    </tr>\n",
       "    <tr>\n",
       "      <th>2</th>\n",
       "      <td>Incident</td>\n",
       "      <td>3678</td>\n",
       "      <td>3678</td>\n",
       "      <td>3678</td>\n",
       "      <td>3678</td>\n",
       "      <td>3678</td>\n",
       "      <td>3678</td>\n",
       "      <td>3678</td>\n",
       "      <td>3678</td>\n",
       "      <td>3678</td>\n",
       "      <td>3678</td>\n",
       "      <td>3678</td>\n",
       "      <td>3678</td>\n",
       "      <td>3678</td>\n",
       "      <td>3678</td>\n",
       "      <td>3678</td>\n",
       "      <td>3678</td>\n",
       "    </tr>\n",
       "  </tbody>\n",
       "</table>\n",
       "</div>"
      ],
      "text/plain": [
       "  Investigation Type  Broad Phase of Flight  Total Uninjured  \\\n",
       "1           Accident                  81938            81938   \n",
       "2           Incident                   3678             3678   \n",
       "\n",
       "   Total Minor Injuries  Total Serious Injuries  Total Fatal Injuries  \\\n",
       "1                 81938                   81938                 81938   \n",
       "2                  3678                    3678                  3678   \n",
       "\n",
       "   Air Carrier   Make  Model  Aircraft Category  Aircraft Damage  \\\n",
       "1        81938  81938  81938              81938            81938   \n",
       "2         3678   3678   3678               3678             3678   \n",
       "\n",
       "   Injury Severity  Country  Event Id   Year  Month    Day  \n",
       "1            81938    81938     81938  81938  81938  81938  \n",
       "2             3678     3678      3678   3678   3678   3678  "
      ]
     },
     "execution_count": 17,
     "metadata": {},
     "output_type": "execute_result"
    }
   ],
   "source": [
    "accident_incident = flight_df.groupby(['Investigation Type'], as_index=False).count()\n",
    "accident_incident['Investigation Type'].replace('', np.nan, inplace=True)\n",
    "accident_incident.dropna(subset=['Investigation Type'], inplace=True)\n",
    "accident_incident"
   ]
  },
  {
   "cell_type": "code",
   "execution_count": 18,
   "id": "d2e6cc5a",
   "metadata": {},
   "outputs": [
    {
     "data": {
      "text/plain": [
       "Text(0.5, 1.0, 'Aircraft Events by Event Type Designation')"
      ]
     },
     "execution_count": 18,
     "metadata": {},
     "output_type": "execute_result"
    },
    {
     "data": {
      "image/png": "[encoded data removed]",
      "text/plain": [
       "<Figure size 640x480 with 1 Axes>"
      ]
     },
     "metadata": {},
     "output_type": "display_data"
    }
   ],
   "source": [
    "plt.bar(x=accident_incident['Investigation Type'], height=accident_incident['Event Id'])\n",
    "plt.ylabel('Number of Events')\n",
    "plt.xlabel('Event Type')\n",
    "plt.title('Aircraft Events by Event Type Designation')"
   ]
  },
  {
   "cell_type": "markdown",
   "id": "5c7b9561",
   "metadata": {},
   "source": [
    "The above image is a bar plot depiction of the proportion of flight crashes that are deem 'Accident' versus 'Incident'. As pictured 'Accidents' outnumber 'Incidents' by a proportion of about 22 to 1."
   ]
  },
  {
   "cell_type": "markdown",
   "id": "b5f1d324",
   "metadata": {},
   "source": [
    "### Question 4\n",
    "(10 pts) Create a suitable visualization that calculates the number of events grouped by the aircraft make (e.g. Cessna, Boeing, Piper, etc).** Visualize which aircraft has the most events; only show the top ten results. Comment on the results."
   ]
  },
  {
   "cell_type": "code",
   "execution_count": 19,
   "id": "d97fea0b",
   "metadata": {
    "scrolled": false
   },
   "outputs": [
    {
     "data": {
      "text/plain": [
       "Text(0.5, 1.0, 'Aircraft Events by Manufacturer')"
      ]
     },
     "execution_count": 19,
     "metadata": {},
     "output_type": "execute_result"
    },
    {
     "data": {
      "image/png": "[encoded data removed]",
      "text/plain": [
       "<Figure size 640x480 with 1 Axes>"
      ]
     },
     "metadata": {},
     "output_type": "display_data"
    }
   ],
   "source": [
    "flight_df['Make'] = flight_df['Make'].str.upper()\n",
    "aircraft_make = flight_df['Make'].value_counts().head(10)\n",
    "aircraft_make.plot(kind='bar')\n",
    "plt.xlabel('Aircraft Make')\n",
    "plt.ylabel('Number of Events')\n",
    "plt.title('Aircraft Events by Manufacturer')"
   ]
  },
  {
   "cell_type": "markdown",
   "id": "623901cf",
   "metadata": {},
   "source": [
    "Above is a barplot depicting the amount of aircraft events for each of the top 10 manufacturers. The most featured manufacturer is Cessna, with over 25,000 aircraft events."
   ]
  },
  {
   "cell_type": "markdown",
   "id": "0e88ffca",
   "metadata": {},
   "source": [
    "### Question 5\n",
    "(15 pts) Let's dig deeper: Filter the data and extract all events for the Boeing 737 aircraft (i.e. the make is Boeing and the model is 737)**. Create suitable visualizations to answer the following using the extracted data:\n",
    "- What year had the most accidents,\n",
    "- What Phase of Flight did most accidents transpire, and\n",
    "- Using the Injury Severity variable, determine if most events were fatal or non-fatal? Note: you may need to do additional preparation for the Injury Severity variable."
   ]
  },
  {
   "cell_type": "code",
   "execution_count": 20,
   "id": "bfa6d5b9",
   "metadata": {},
   "outputs": [
    {
     "data": {
      "text/plain": [
       "Text(0.5, 1.0, 'Boeing 737 Events with Accident Designation per Year')"
      ]
     },
     "execution_count": 20,
     "metadata": {},
     "output_type": "execute_result"
    },
    {
     "data": {
      "image/png": "[encoded data removed]",
      "text/plain": [
       "<Figure size 640x480 with 1 Axes>"
      ]
     },
     "metadata": {},
     "output_type": "display_data"
    }
   ],
   "source": [
    "boeing_737 = flight_df.loc[flight_df['Model'] == '737']\n",
    "boeing_737\n",
    "boeing_737_acc = boeing_737.loc[boeing_737['Investigation Type'] == 'Accident']\n",
    "boeing_737_acc = boeing_737_acc.groupby(['Year'], as_index=False).count()\n",
    "boeing_737_acc.plot(x='Year', y='Investigation Type')\n",
    "plt.ylim(0,20)\n",
    "\n",
    "\n",
    "plt.ylabel('Number of Boeing 737 Accidents')\n",
    "plt.title('Boeing 737 Events with Accident Designation per Year')"
   ]
  },
  {
   "cell_type": "code",
   "execution_count": 21,
   "id": "1f6f9ab3",
   "metadata": {},
   "outputs": [
    {
     "data": {
      "text/plain": [
       "Text(0.5, 1.0, 'Boeing 737 Events with Accident Designation per Year')"
      ]
     },
     "execution_count": 21,
     "metadata": {},
     "output_type": "execute_result"
    },
    {
     "data": {
      "image/png": "[encoded data removed]",
      "text/plain": [
       "<Figure size 640x480 with 1 Axes>"
      ]
     },
     "metadata": {},
     "output_type": "display_data"
    }
   ],
   "source": [
    "boeing_737_acc.plot(x='Year', y='Investigation Type')\n",
    "plt.ylim(0,20)\n",
    "plt.xlim(2015,2020)\n",
    "\n",
    "plt.ylabel('Number of Boeing 737 Accidents')\n",
    "plt.title('Boeing 737 Events with Accident Designation per Year')"
   ]
  },
  {
   "cell_type": "markdown",
   "id": "703b3c83",
   "metadata": {},
   "source": [
    "The year with the most accidents was 2018"
   ]
  },
  {
   "cell_type": "code",
   "execution_count": 22,
   "id": "6637ec76",
   "metadata": {},
   "outputs": [
    {
     "name": "stderr",
     "output_type": "stream",
     "text": [
      "/var/folders/qx/998n23w10ndgq3s189jlhgjh0000gn/T/ipykernel_929/3090048550.py:2: SettingWithCopyWarning: \n",
      "A value is trying to be set on a copy of a slice from a DataFrame\n",
      "\n",
      "See the caveats in the documentation: https://pandas.pydata.org/pandas-docs/stable/user_guide/indexing.html#returning-a-view-versus-a-copy\n",
      "  boeing_737_acc['Broad Phase of Flight'].replace('', np.nan, inplace=True)\n"
     ]
    },
    {
     "data": {
      "text/plain": [
       "Text(0.5, 1.0, '5 Most Common Phases of Flight Among Accident Designations')"
      ]
     },
     "execution_count": 22,
     "metadata": {},
     "output_type": "execute_result"
    },
    {
     "data": {
      "image/png": "[encoded data removed]",
      "text/plain": [
       "<Figure size 640x480 with 1 Axes>"
      ]
     },
     "metadata": {},
     "output_type": "display_data"
    }
   ],
   "source": [
    "boeing_737_acc = boeing_737.loc[boeing_737['Investigation Type'] == 'Accident']\n",
    "boeing_737_acc['Broad Phase of Flight'].replace('', np.nan, inplace=True)\n",
    "\n",
    "boeing_737_acc = boeing_737_acc.groupby(['Broad Phase of Flight'], as_index=False).count().head(5)\n",
    "boeing_737_acc.dropna(subset=['Broad Phase of Flight'], inplace=True)\n",
    "\n",
    "plt.bar(x=boeing_737_acc['Broad Phase of Flight'], height=boeing_737_acc['Event Id'])\n",
    "plt.xlabel('Broad Phase of Flight')\n",
    "plt.ylabel('Number of Accident Designation Events')\n",
    "plt.title('5 Most Common Phases of Flight Among Accident Designations')\n"
   ]
  },
  {
   "cell_type": "markdown",
   "id": "0085efaf",
   "metadata": {},
   "source": [
    "The category of phase of flight in which the most accidents transpired was a shared title between \"Cruise\" and \"Descent\". "
   ]
  },
  {
   "cell_type": "code",
   "execution_count": 105,
   "id": "df4d4a8a",
   "metadata": {
    "scrolled": false
   },
   "outputs": [
    {
     "data": {
      "text/html": [
       "<div>\n",
       "<style scoped>\n",
       "    .dataframe tbody tr th:only-of-type {\n",
       "        vertical-align: middle;\n",
       "    }\n",
       "\n",
       "    .dataframe tbody tr th {\n",
       "        vertical-align: top;\n",
       "    }\n",
       "\n",
       "    .dataframe thead th {\n",
       "        text-align: right;\n",
       "    }\n",
       "</style>\n",
       "<table border=\"1\" class=\"dataframe\">\n",
       "  <thead>\n",
       "    <tr style=\"text-align: right;\">\n",
       "      <th></th>\n",
       "      <th>Injury Severity</th>\n",
       "      <th>Broad Phase of Flight</th>\n",
       "      <th>Total Uninjured</th>\n",
       "      <th>Total Minor Injuries</th>\n",
       "      <th>Total Serious Injuries</th>\n",
       "      <th>Total Fatal Injuries</th>\n",
       "      <th>Air Carrier</th>\n",
       "      <th>Make</th>\n",
       "      <th>Model</th>\n",
       "      <th>Aircraft Category</th>\n",
       "      <th>Aircraft Damage</th>\n",
       "      <th>Country</th>\n",
       "      <th>Investigation Type</th>\n",
       "      <th>Event Id</th>\n",
       "      <th>Year</th>\n",
       "      <th>Month</th>\n",
       "      <th>Day</th>\n",
       "    </tr>\n",
       "  </thead>\n",
       "  <tbody>\n",
       "    <tr>\n",
       "      <th>0</th>\n",
       "      <td>Fatal(1)</td>\n",
       "      <td>8513</td>\n",
       "      <td>8513</td>\n",
       "      <td>8513</td>\n",
       "      <td>8513</td>\n",
       "      <td>8513</td>\n",
       "      <td>8513</td>\n",
       "      <td>8513</td>\n",
       "      <td>8513</td>\n",
       "      <td>8513</td>\n",
       "      <td>8513</td>\n",
       "      <td>8513</td>\n",
       "      <td>8513</td>\n",
       "      <td>8513</td>\n",
       "      <td>8513</td>\n",
       "      <td>8513</td>\n",
       "      <td>8513</td>\n",
       "    </tr>\n",
       "    <tr>\n",
       "      <th>1</th>\n",
       "      <td>Fatal(10)</td>\n",
       "      <td>45</td>\n",
       "      <td>45</td>\n",
       "      <td>45</td>\n",
       "      <td>45</td>\n",
       "      <td>45</td>\n",
       "      <td>45</td>\n",
       "      <td>45</td>\n",
       "      <td>45</td>\n",
       "      <td>45</td>\n",
       "      <td>45</td>\n",
       "      <td>45</td>\n",
       "      <td>45</td>\n",
       "      <td>45</td>\n",
       "      <td>45</td>\n",
       "      <td>45</td>\n",
       "      <td>45</td>\n",
       "    </tr>\n",
       "    <tr>\n",
       "      <th>2</th>\n",
       "      <td>Fatal(102)</td>\n",
       "      <td>2</td>\n",
       "      <td>2</td>\n",
       "      <td>2</td>\n",
       "      <td>2</td>\n",
       "      <td>2</td>\n",
       "      <td>2</td>\n",
       "      <td>2</td>\n",
       "      <td>2</td>\n",
       "      <td>2</td>\n",
       "      <td>2</td>\n",
       "      <td>2</td>\n",
       "      <td>2</td>\n",
       "      <td>2</td>\n",
       "      <td>2</td>\n",
       "      <td>2</td>\n",
       "      <td>2</td>\n",
       "    </tr>\n",
       "    <tr>\n",
       "      <th>3</th>\n",
       "      <td>Fatal(103)</td>\n",
       "      <td>1</td>\n",
       "      <td>1</td>\n",
       "      <td>1</td>\n",
       "      <td>1</td>\n",
       "      <td>1</td>\n",
       "      <td>1</td>\n",
       "      <td>1</td>\n",
       "      <td>1</td>\n",
       "      <td>1</td>\n",
       "      <td>1</td>\n",
       "      <td>1</td>\n",
       "      <td>1</td>\n",
       "      <td>1</td>\n",
       "      <td>1</td>\n",
       "      <td>1</td>\n",
       "      <td>1</td>\n",
       "    </tr>\n",
       "    <tr>\n",
       "      <th>4</th>\n",
       "      <td>Fatal(104)</td>\n",
       "      <td>2</td>\n",
       "      <td>2</td>\n",
       "      <td>2</td>\n",
       "      <td>2</td>\n",
       "      <td>2</td>\n",
       "      <td>2</td>\n",
       "      <td>2</td>\n",
       "      <td>2</td>\n",
       "      <td>2</td>\n",
       "      <td>2</td>\n",
       "      <td>2</td>\n",
       "      <td>2</td>\n",
       "      <td>2</td>\n",
       "      <td>2</td>\n",
       "      <td>2</td>\n",
       "      <td>2</td>\n",
       "    </tr>\n",
       "    <tr>\n",
       "      <th>...</th>\n",
       "      <td>...</td>\n",
       "      <td>...</td>\n",
       "      <td>...</td>\n",
       "      <td>...</td>\n",
       "      <td>...</td>\n",
       "      <td>...</td>\n",
       "      <td>...</td>\n",
       "      <td>...</td>\n",
       "      <td>...</td>\n",
       "      <td>...</td>\n",
       "      <td>...</td>\n",
       "      <td>...</td>\n",
       "      <td>...</td>\n",
       "      <td>...</td>\n",
       "      <td>...</td>\n",
       "      <td>...</td>\n",
       "      <td>...</td>\n",
       "    </tr>\n",
       "    <tr>\n",
       "      <th>121</th>\n",
       "      <td>Fatal(9)</td>\n",
       "      <td>44</td>\n",
       "      <td>44</td>\n",
       "      <td>44</td>\n",
       "      <td>44</td>\n",
       "      <td>44</td>\n",
       "      <td>44</td>\n",
       "      <td>44</td>\n",
       "      <td>44</td>\n",
       "      <td>44</td>\n",
       "      <td>44</td>\n",
       "      <td>44</td>\n",
       "      <td>44</td>\n",
       "      <td>44</td>\n",
       "      <td>44</td>\n",
       "      <td>44</td>\n",
       "      <td>44</td>\n",
       "    </tr>\n",
       "    <tr>\n",
       "      <th>122</th>\n",
       "      <td>Fatal(90)</td>\n",
       "      <td>1</td>\n",
       "      <td>1</td>\n",
       "      <td>1</td>\n",
       "      <td>1</td>\n",
       "      <td>1</td>\n",
       "      <td>1</td>\n",
       "      <td>1</td>\n",
       "      <td>1</td>\n",
       "      <td>1</td>\n",
       "      <td>1</td>\n",
       "      <td>1</td>\n",
       "      <td>1</td>\n",
       "      <td>1</td>\n",
       "      <td>1</td>\n",
       "      <td>1</td>\n",
       "      <td>1</td>\n",
       "    </tr>\n",
       "    <tr>\n",
       "      <th>123</th>\n",
       "      <td>Fatal(92)</td>\n",
       "      <td>2</td>\n",
       "      <td>2</td>\n",
       "      <td>2</td>\n",
       "      <td>2</td>\n",
       "      <td>2</td>\n",
       "      <td>2</td>\n",
       "      <td>2</td>\n",
       "      <td>2</td>\n",
       "      <td>2</td>\n",
       "      <td>2</td>\n",
       "      <td>2</td>\n",
       "      <td>2</td>\n",
       "      <td>2</td>\n",
       "      <td>2</td>\n",
       "      <td>2</td>\n",
       "      <td>2</td>\n",
       "    </tr>\n",
       "    <tr>\n",
       "      <th>124</th>\n",
       "      <td>Fatal(96)</td>\n",
       "      <td>1</td>\n",
       "      <td>1</td>\n",
       "      <td>1</td>\n",
       "      <td>1</td>\n",
       "      <td>1</td>\n",
       "      <td>1</td>\n",
       "      <td>1</td>\n",
       "      <td>1</td>\n",
       "      <td>1</td>\n",
       "      <td>1</td>\n",
       "      <td>1</td>\n",
       "      <td>1</td>\n",
       "      <td>1</td>\n",
       "      <td>1</td>\n",
       "      <td>1</td>\n",
       "      <td>1</td>\n",
       "    </tr>\n",
       "    <tr>\n",
       "      <th>125</th>\n",
       "      <td>Fatal(97)</td>\n",
       "      <td>3</td>\n",
       "      <td>3</td>\n",
       "      <td>3</td>\n",
       "      <td>3</td>\n",
       "      <td>3</td>\n",
       "      <td>3</td>\n",
       "      <td>3</td>\n",
       "      <td>3</td>\n",
       "      <td>3</td>\n",
       "      <td>3</td>\n",
       "      <td>3</td>\n",
       "      <td>3</td>\n",
       "      <td>3</td>\n",
       "      <td>3</td>\n",
       "      <td>3</td>\n",
       "      <td>3</td>\n",
       "    </tr>\n",
       "  </tbody>\n",
       "</table>\n",
       "<p>126 rows × 17 columns</p>\n",
       "</div>"
      ],
      "text/plain": [
       "    Injury Severity  Broad Phase of Flight  Total Uninjured  \\\n",
       "0          Fatal(1)                   8513             8513   \n",
       "1         Fatal(10)                     45               45   \n",
       "2        Fatal(102)                      2                2   \n",
       "3        Fatal(103)                      1                1   \n",
       "4        Fatal(104)                      2                2   \n",
       "..              ...                    ...              ...   \n",
       "121        Fatal(9)                     44               44   \n",
       "122       Fatal(90)                      1                1   \n",
       "123       Fatal(92)                      2                2   \n",
       "124       Fatal(96)                      1                1   \n",
       "125       Fatal(97)                      3                3   \n",
       "\n",
       "     Total Minor Injuries  Total Serious Injuries  Total Fatal Injuries  \\\n",
       "0                    8513                    8513                  8513   \n",
       "1                      45                      45                    45   \n",
       "2                       2                       2                     2   \n",
       "3                       1                       1                     1   \n",
       "4                       2                       2                     2   \n",
       "..                    ...                     ...                   ...   \n",
       "121                    44                      44                    44   \n",
       "122                     1                       1                     1   \n",
       "123                     2                       2                     2   \n",
       "124                     1                       1                     1   \n",
       "125                     3                       3                     3   \n",
       "\n",
       "     Air Carrier  Make  Model  Aircraft Category  Aircraft Damage  Country  \\\n",
       "0           8513  8513   8513               8513             8513     8513   \n",
       "1             45    45     45                 45               45       45   \n",
       "2              2     2      2                  2                2        2   \n",
       "3              1     1      1                  1                1        1   \n",
       "4              2     2      2                  2                2        2   \n",
       "..           ...   ...    ...                ...              ...      ...   \n",
       "121           44    44     44                 44               44       44   \n",
       "122            1     1      1                  1                1        1   \n",
       "123            2     2      2                  2                2        2   \n",
       "124            1     1      1                  1                1        1   \n",
       "125            3     3      3                  3                3        3   \n",
       "\n",
       "     Investigation Type  Event Id  Year  Month   Day  \n",
       "0                  8513      8513  8513   8513  8513  \n",
       "1                    45        45    45     45    45  \n",
       "2                     2         2     2      2     2  \n",
       "3                     1         1     1      1     1  \n",
       "4                     2         2     2      2     2  \n",
       "..                  ...       ...   ...    ...   ...  \n",
       "121                  44        44    44     44    44  \n",
       "122                   1         1     1      1     1  \n",
       "123                   2         2     2      2     2  \n",
       "124                   1         1     1      1     1  \n",
       "125                   3         3     3      3     3  \n",
       "\n",
       "[126 rows x 17 columns]"
      ]
     },
     "execution_count": 105,
     "metadata": {},
     "output_type": "execute_result"
    }
   ],
   "source": [
    "fatal_df = flight_df.groupby(['Injury Severity'], as_index=False).count()\n",
    "fatal_df['Injury Severity'].replace('Unavailable', np.nan, inplace=True)\n",
    "fatal_df['Injury Severity'].replace('Incident', np.nan, inplace=True)\n",
    "\n",
    "fatal_df = fatal_df.dropna(subset=['Injury Severity'], inplace=True)\n",
    "\n",
    "severity = flight_df.groupby(['Injury Severity'], as_index=False).count()\n",
    "\n",
    "\n",
    "severity_df"
   ]
  },
  {
   "cell_type": "code",
   "execution_count": null,
   "id": "7e96f4fc",
   "metadata": {},
   "outputs": [],
   "source": []
  },
  {
   "cell_type": "markdown",
   "id": "2e8172b4",
   "metadata": {},
   "source": [
    "### Bonus\n",
    "For the Bonus I'm going to see which countries were most often associated with crash events. To do this I'll use a bar graph plotting the most common countries in the data frame."
   ]
  },
  {
   "cell_type": "code",
   "execution_count": 103,
   "id": "6f831cb9",
   "metadata": {},
   "outputs": [
    {
     "data": {
      "text/plain": [
       "<AxesSubplot:>"
      ]
     },
     "execution_count": 103,
     "metadata": {},
     "output_type": "execute_result"
    },
    {
     "data": {
      "image/png": "[encoded data removed]",
      "text/plain": [
       "<Figure size 640x480 with 1 Axes>"
      ]
     },
     "metadata": {},
     "output_type": "display_data"
    }
   ],
   "source": [
    "countries = flight_df['Country'].value_counts().head(10)\n",
    "\n",
    "countries.plot(kind='bar')"
   ]
  },
  {
   "cell_type": "code",
   "execution_count": null,
   "id": "e4e315e9",
   "metadata": {},
   "outputs": [],
   "source": []
  }
 ],
 "metadata": {
  "kernelspec": {
   "display_name": "Python 3 (ipykernel)",
   "language": "python",
   "name": "python3"
  },
  "language_info": {
   "codemirror_mode": {
    "name": "ipython",
    "version": 3
   },
   "file_extension": ".py",
   "mimetype": "text/x-python",
   "name": "python",
   "nbconvert_exporter": "python",
   "pygments_lexer": "ipython3",
   "version": "3.9.13"
  }
 },
 "nbformat": 4,
 "nbformat_minor": 5
}
